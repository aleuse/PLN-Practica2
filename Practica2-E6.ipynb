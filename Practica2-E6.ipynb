{
  "cells": [
    {
      "cell_type": "markdown",
      "metadata": {},
      "source": [
        "# Práctica 2: Gestor de Noticias"
      ]
    },
    {
      "cell_type": "markdown",
      "metadata": {},
      "source": [
        "Equipo 6:\n",
        "\n",
        "- Andrés Alexis Galvis Herrera\n",
        "- Juan Esteban Mejía Espejo\n",
        "- Juan José Zapata Cadavid\n",
        "- Maria Camila Zapata Arrubla"
      ]
    },
    {
      "cell_type": "markdown",
      "metadata": {
        "id": "Zp8t4TF7ygOG"
      },
      "source": [
        "En primer lugar se descargan los datos desde Kaggle, y se ordenan en la estrucctura de directorios que facilita su manejo"
      ]
    },
    {
      "cell_type": "code",
      "execution_count": 1,
      "metadata": {
        "colab": {
          "base_uri": "https://localhost:8080/"
        },
        "id": "-0cOHpxJygOH",
        "outputId": "35f313c4-897f-4903-a0c1-68d590b03bb1"
      },
      "outputs": [
        {
          "name": "stderr",
          "output_type": "stream",
          "text": [
            "  % Total    % Received % Xferd  Average Speed   Time    Time     Time  Current\n",
            "                                 Dload  Upload   Total   Spent    Left  Speed\n",
            "\n",
            "  0     0    0     0    0     0      0      0 --:--:-- --:--:-- --:--:--     0\n",
            "  0     0    0     0    0     0      0      0 --:--:-- --:--:-- --:--:--     0\n",
            "  0     0    0     0    0     0      0      0 --:--:-- --:--:-- --:--:--     0\n",
            "\n",
            "100 1409k  100 1409k    0     0   917k      0  0:00:01  0:00:01 --:--:--  917k\n",
            "The syntax of the command is incorrect.\n",
            "'unzip' is not recognized as an internal or external command,\n",
            "operable program or batch file.\n",
            "'rm' is not recognized as an internal or external command,\n",
            "operable program or batch file.\n"
          ]
        }
      ],
      "source": [
        "#!/bin/bash\n",
        "# Descargar el dataset\n",
        "!curl -L -o ./spanish-news-classification.zip \\\n",
        "  https://www.kaggle.com/api/v1/datasets/download/kevinmorgado/spanish-news-classification\n",
        "\n",
        "# Crear la carpeta data/raw si no existe\n",
        "!mkdir -p data/raw\n",
        "\n",
        "# Descomprimir el archivo en la carpeta data/raw\n",
        "!unzip ./spanish-news-classification.zip -d data/raw\n",
        "\n",
        "# Eliminar el archivo zip descargado\n",
        "!rm ./spanish-news-classification.zip\n"
      ]
    },
    {
      "cell_type": "code",
      "execution_count": 2,
      "metadata": {
        "colab": {
          "base_uri": "https://localhost:8080/",
          "height": 597
        },
        "id": "ToTfpMITygOI",
        "outputId": "e76b2954-3116-4772-d508-cac5d5bded23"
      },
      "outputs": [
        {
          "data": {
            "text/html": [
              "<div>\n",
              "<style scoped>\n",
              "    .dataframe tbody tr th:only-of-type {\n",
              "        vertical-align: middle;\n",
              "    }\n",
              "\n",
              "    .dataframe tbody tr th {\n",
              "        vertical-align: top;\n",
              "    }\n",
              "\n",
              "    .dataframe thead th {\n",
              "        text-align: right;\n",
              "    }\n",
              "</style>\n",
              "<table border=\"1\" class=\"dataframe\">\n",
              "  <thead>\n",
              "    <tr style=\"text-align: right;\">\n",
              "      <th></th>\n",
              "      <th>url</th>\n",
              "      <th>news</th>\n",
              "      <th>Type</th>\n",
              "    </tr>\n",
              "  </thead>\n",
              "  <tbody>\n",
              "    <tr>\n",
              "      <th>0</th>\n",
              "      <td>https://www.larepublica.co/redirect/post/3201905</td>\n",
              "      <td>Durante el foro La banca articulador empresari...</td>\n",
              "      <td>Otra</td>\n",
              "    </tr>\n",
              "    <tr>\n",
              "      <th>1</th>\n",
              "      <td>https://www.larepublica.co/redirect/post/3210288</td>\n",
              "      <td>El regulador de valores de China dijo el domin...</td>\n",
              "      <td>Regulaciones</td>\n",
              "    </tr>\n",
              "    <tr>\n",
              "      <th>2</th>\n",
              "      <td>https://www.larepublica.co/redirect/post/3240676</td>\n",
              "      <td>En una industria históricamente masculina como...</td>\n",
              "      <td>Alianzas</td>\n",
              "    </tr>\n",
              "    <tr>\n",
              "      <th>3</th>\n",
              "      <td>https://www.larepublica.co/redirect/post/3342889</td>\n",
              "      <td>Con el dato de marzo el IPC interanual encaden...</td>\n",
              "      <td>Macroeconomia</td>\n",
              "    </tr>\n",
              "    <tr>\n",
              "      <th>4</th>\n",
              "      <td>https://www.larepublica.co/redirect/post/3427208</td>\n",
              "      <td>Ayer en Cartagena se dio inicio a la versión n...</td>\n",
              "      <td>Otra</td>\n",
              "    </tr>\n",
              "    <tr>\n",
              "      <th>...</th>\n",
              "      <td>...</td>\n",
              "      <td>...</td>\n",
              "      <td>...</td>\n",
              "    </tr>\n",
              "    <tr>\n",
              "      <th>1212</th>\n",
              "      <td>https://www.bbva.com/es/como-lograr-que-los-in...</td>\n",
              "      <td>En la vida de toda empresa emergente llega un ...</td>\n",
              "      <td>Innovacion</td>\n",
              "    </tr>\n",
              "    <tr>\n",
              "      <th>1213</th>\n",
              "      <td>https://www.bbva.com/es/podcast-como-nos-afect...</td>\n",
              "      <td>La espiral alcista de los precios continúa y g...</td>\n",
              "      <td>Macroeconomia</td>\n",
              "    </tr>\n",
              "    <tr>\n",
              "      <th>1214</th>\n",
              "      <td>https://www.larepublica.co/redirect/post/3253735</td>\n",
              "      <td>Las grandes derrotas nacionales son experienci...</td>\n",
              "      <td>Alianzas</td>\n",
              "    </tr>\n",
              "    <tr>\n",
              "      <th>1215</th>\n",
              "      <td>https://www.bbva.com/es/bbva-y-barcelona-healt...</td>\n",
              "      <td>BBVA ha alcanzado un acuerdo de colaboración c...</td>\n",
              "      <td>Innovacion</td>\n",
              "    </tr>\n",
              "    <tr>\n",
              "      <th>1216</th>\n",
              "      <td>https://www.larepublica.co/redirect/post/3263980</td>\n",
              "      <td>Casi entrando a la parte final de noviembre la...</td>\n",
              "      <td>Alianzas</td>\n",
              "    </tr>\n",
              "  </tbody>\n",
              "</table>\n",
              "<p>1217 rows × 3 columns</p>\n",
              "</div>"
            ],
            "text/plain": [
              "                                                    url  \\\n",
              "0      https://www.larepublica.co/redirect/post/3201905   \n",
              "1      https://www.larepublica.co/redirect/post/3210288   \n",
              "2      https://www.larepublica.co/redirect/post/3240676   \n",
              "3      https://www.larepublica.co/redirect/post/3342889   \n",
              "4      https://www.larepublica.co/redirect/post/3427208   \n",
              "...                                                 ...   \n",
              "1212  https://www.bbva.com/es/como-lograr-que-los-in...   \n",
              "1213  https://www.bbva.com/es/podcast-como-nos-afect...   \n",
              "1214   https://www.larepublica.co/redirect/post/3253735   \n",
              "1215  https://www.bbva.com/es/bbva-y-barcelona-healt...   \n",
              "1216   https://www.larepublica.co/redirect/post/3263980   \n",
              "\n",
              "                                                   news           Type  \n",
              "0     Durante el foro La banca articulador empresari...           Otra  \n",
              "1     El regulador de valores de China dijo el domin...   Regulaciones  \n",
              "2     En una industria históricamente masculina como...       Alianzas  \n",
              "3     Con el dato de marzo el IPC interanual encaden...  Macroeconomia  \n",
              "4     Ayer en Cartagena se dio inicio a la versión n...           Otra  \n",
              "...                                                 ...            ...  \n",
              "1212  En la vida de toda empresa emergente llega un ...     Innovacion  \n",
              "1213  La espiral alcista de los precios continúa y g...  Macroeconomia  \n",
              "1214  Las grandes derrotas nacionales son experienci...       Alianzas  \n",
              "1215  BBVA ha alcanzado un acuerdo de colaboración c...     Innovacion  \n",
              "1216  Casi entrando a la parte final de noviembre la...       Alianzas  \n",
              "\n",
              "[1217 rows x 3 columns]"
            ]
          },
          "execution_count": 2,
          "metadata": {},
          "output_type": "execute_result"
        }
      ],
      "source": [
        "# Leer el dataset\n",
        "import pandas as pd\n",
        "\n",
        "# Leer el archivo de texto\n",
        "df = pd.read_csv('data/raw/df_total.csv')\n",
        "df"
      ]
    },
    {
      "cell_type": "markdown",
      "metadata": {
        "id": "YLn_7d8ZygOJ"
      },
      "source": [
        "## Limpieza de datos\n",
        "A continuación se elimina la columna url, ya que no es de utilidad para el desarrollo que se va a realizar, y además se trata la columna de cuerpo de la noticia."
      ]
    },
    {
      "cell_type": "code",
      "execution_count": 3,
      "metadata": {
        "colab": {
          "base_uri": "https://localhost:8080/",
          "height": 206
        },
        "id": "r2mXp8h2ygOJ",
        "outputId": "b82234a1-8813-4e70-c19f-27b548664934"
      },
      "outputs": [
        {
          "data": {
            "text/html": [
              "<div>\n",
              "<style scoped>\n",
              "    .dataframe tbody tr th:only-of-type {\n",
              "        vertical-align: middle;\n",
              "    }\n",
              "\n",
              "    .dataframe tbody tr th {\n",
              "        vertical-align: top;\n",
              "    }\n",
              "\n",
              "    .dataframe thead th {\n",
              "        text-align: right;\n",
              "    }\n",
              "</style>\n",
              "<table border=\"1\" class=\"dataframe\">\n",
              "  <thead>\n",
              "    <tr style=\"text-align: right;\">\n",
              "      <th></th>\n",
              "      <th>news</th>\n",
              "      <th>Type</th>\n",
              "    </tr>\n",
              "  </thead>\n",
              "  <tbody>\n",
              "    <tr>\n",
              "      <th>0</th>\n",
              "      <td>Durante el foro La banca articulador empresari...</td>\n",
              "      <td>Otra</td>\n",
              "    </tr>\n",
              "    <tr>\n",
              "      <th>1</th>\n",
              "      <td>El regulador de valores de China dijo el domin...</td>\n",
              "      <td>Regulaciones</td>\n",
              "    </tr>\n",
              "    <tr>\n",
              "      <th>2</th>\n",
              "      <td>En una industria históricamente masculina como...</td>\n",
              "      <td>Alianzas</td>\n",
              "    </tr>\n",
              "    <tr>\n",
              "      <th>3</th>\n",
              "      <td>Con el dato de marzo el IPC interanual encaden...</td>\n",
              "      <td>Macroeconomia</td>\n",
              "    </tr>\n",
              "    <tr>\n",
              "      <th>4</th>\n",
              "      <td>Ayer en Cartagena se dio inicio a la versión n...</td>\n",
              "      <td>Otra</td>\n",
              "    </tr>\n",
              "  </tbody>\n",
              "</table>\n",
              "</div>"
            ],
            "text/plain": [
              "                                                news           Type\n",
              "0  Durante el foro La banca articulador empresari...           Otra\n",
              "1  El regulador de valores de China dijo el domin...   Regulaciones\n",
              "2  En una industria históricamente masculina como...       Alianzas\n",
              "3  Con el dato de marzo el IPC interanual encaden...  Macroeconomia\n",
              "4  Ayer en Cartagena se dio inicio a la versión n...           Otra"
            ]
          },
          "execution_count": 3,
          "metadata": {},
          "output_type": "execute_result"
        }
      ],
      "source": [
        "# borrar la columna url\n",
        "df = df.drop(columns=['url'])\n",
        "df.head()"
      ]
    },
    {
      "cell_type": "markdown",
      "metadata": {
        "id": "qEH9tSoAygOJ"
      },
      "source": [
        "Inicialmente, para evaluar el procesamiento que se le realizará a los datos, observamos los distintos caracteres que se encuentran en el cuerpo de la noticia."
      ]
    },
    {
      "cell_type": "code",
      "execution_count": 4,
      "metadata": {
        "colab": {
          "base_uri": "https://localhost:8080/"
        },
        "id": "47-aFc7aygOJ",
        "outputId": "178c7754-64ad-4a98-8757-bd8c735e5f0a"
      },
      "outputs": [
        {
          "data": {
            "text/plain": [
              "array(['\\t', '\\n', '\\r', ' ', '!', '\"', '#', '$', '%', '&', \"'\", '(', ')',\n",
              "       '+', ',', '-', '.', '/', '0', '1', '2', '3', '4', '5', '6', '7',\n",
              "       '8', '9', ':', ';', '?', '@', 'A', 'B', 'C', 'D', 'E', 'F', 'G',\n",
              "       'H', 'I', 'J', 'K', 'L', 'M', 'N', 'O', 'P', 'Q', 'R', 'S', 'T',\n",
              "       'U', 'V', 'W', 'X', 'Y', 'Z', '[', ']', '_', '`', 'a', 'b', 'c',\n",
              "       'd', 'e', 'f', 'g', 'h', 'i', 'j', 'k', 'l', 'm', 'n', 'o', 'p',\n",
              "       'q', 'r', 's', 't', 'u', 'v', 'w', 'x', 'y', 'z', '|', '\\xa0', '¡',\n",
              "       'ª', '\\xad', '®', '°', '²', '´', '·', 'º', '¿', 'Á', 'Ä', 'É', 'Í',\n",
              "       'Ð', 'Ó', 'Ö', 'Ú', 'à', 'á', 'ã', 'ç', 'é', 'ê', 'ë', 'í', 'ñ',\n",
              "       'ò', 'ó', 'ö', 'ú', 'ü', 'ğ', 'ı', 'Ş', 'ş', '́', 'π', '\\u200b',\n",
              "       '–', '—', '‘', '’', '“', '”', '…', '\\u202f', '€', '₿', '™'],\n",
              "      dtype='<U1')"
            ]
          },
          "execution_count": 4,
          "metadata": {},
          "output_type": "execute_result"
        }
      ],
      "source": [
        "import numpy as np\n",
        "\n",
        "# Metamos todo eso en una funcion\n",
        "def get_unique_chars(df):\n",
        "    # Obtener todos los caracteres únicos\n",
        "    unique_chars = np.unique(list(''.join(df['news'].values)))\n",
        "    return unique_chars\n",
        "\n",
        "# Obtener los caracteres únicos\n",
        "unique_chars = get_unique_chars(df)\n",
        "unique_chars"
      ]
    },
    {
      "cell_type": "code",
      "execution_count": 5,
      "metadata": {
        "colab": {
          "base_uri": "https://localhost:8080/",
          "height": 206
        },
        "id": "ybUjCeuPygOJ",
        "outputId": "6a3eca8e-f136-4628-88d5-bf3acd2e6646"
      },
      "outputs": [
        {
          "data": {
            "text/html": [
              "<div>\n",
              "<style scoped>\n",
              "    .dataframe tbody tr th:only-of-type {\n",
              "        vertical-align: middle;\n",
              "    }\n",
              "\n",
              "    .dataframe tbody tr th {\n",
              "        vertical-align: top;\n",
              "    }\n",
              "\n",
              "    .dataframe thead th {\n",
              "        text-align: right;\n",
              "    }\n",
              "</style>\n",
              "<table border=\"1\" class=\"dataframe\">\n",
              "  <thead>\n",
              "    <tr style=\"text-align: right;\">\n",
              "      <th></th>\n",
              "      <th>news</th>\n",
              "      <th>Type</th>\n",
              "    </tr>\n",
              "  </thead>\n",
              "  <tbody>\n",
              "    <tr>\n",
              "      <th>0</th>\n",
              "      <td>durante el foro la banca articulador empresari...</td>\n",
              "      <td>Otra</td>\n",
              "    </tr>\n",
              "    <tr>\n",
              "      <th>1</th>\n",
              "      <td>el regulador de valores de china dijo el domin...</td>\n",
              "      <td>Regulaciones</td>\n",
              "    </tr>\n",
              "    <tr>\n",
              "      <th>2</th>\n",
              "      <td>en una industria históricamente masculina como...</td>\n",
              "      <td>Alianzas</td>\n",
              "    </tr>\n",
              "    <tr>\n",
              "      <th>3</th>\n",
              "      <td>con el dato de marzo el ipc interanual encaden...</td>\n",
              "      <td>Macroeconomia</td>\n",
              "    </tr>\n",
              "    <tr>\n",
              "      <th>4</th>\n",
              "      <td>ayer en cartagena se dio inicio a la versión n...</td>\n",
              "      <td>Otra</td>\n",
              "    </tr>\n",
              "  </tbody>\n",
              "</table>\n",
              "</div>"
            ],
            "text/plain": [
              "                                                news           Type\n",
              "0  durante el foro la banca articulador empresari...           Otra\n",
              "1  el regulador de valores de china dijo el domin...   Regulaciones\n",
              "2  en una industria históricamente masculina como...       Alianzas\n",
              "3  con el dato de marzo el ipc interanual encaden...  Macroeconomia\n",
              "4  ayer en cartagena se dio inicio a la versión n...           Otra"
            ]
          },
          "execution_count": 5,
          "metadata": {},
          "output_type": "execute_result"
        }
      ],
      "source": [
        "import re\n",
        "\n",
        "def clean_text(text):\n",
        "    \"\"\"\n",
        "    Limpia el texto en español realizando los siguientes pasos:\n",
        "    1. (Opcional) Normaliza el texto para separar los acentos de las letras.\n",
        "    2. Elimina los caracteres especiales, pero conserva letras acentuadas y la ñ.\n",
        "    3. Convierte el texto a minúsculas.\n",
        "    4. Reemplaza múltiples espacios en blanco por uno solo.\n",
        "    5. Elimina los espacios iniciales y finales.\n",
        "    \"\"\"\n",
        "\n",
        "    # Se conserva la ñ y las vocales acentuadas\n",
        "    text = re.sub(r\"[^a-zA-Z0-9áéíóúüñÁÉÍÓÚÜÑ]\", \" \", text)\n",
        "    text = text.lower()\n",
        "    text = re.sub(r\"\\s+\", \" \", text)\n",
        "    return text.strip()\n",
        "\n",
        "# aplicar la función clean_text a la columna news\n",
        "df['news'] = df['news'].apply(clean_text)\n",
        "df.head()"
      ]
    },
    {
      "cell_type": "code",
      "execution_count": 6,
      "metadata": {
        "colab": {
          "base_uri": "https://localhost:8080/"
        },
        "id": "gz2bd48HygOK",
        "outputId": "f67d6350-285a-4024-d957-b7afe953aa38"
      },
      "outputs": [
        {
          "data": {
            "text/plain": [
              "array([' ', '0', '1', '2', '3', '4', '5', '6', '7', '8', '9', 'a', 'b',\n",
              "       'c', 'd', 'e', 'f', 'g', 'h', 'i', 'j', 'k', 'l', 'm', 'n', 'o',\n",
              "       'p', 'q', 'r', 's', 't', 'u', 'v', 'w', 'x', 'y', 'z', 'á', 'é',\n",
              "       'í', 'ñ', 'ó', 'ú', 'ü'], dtype='<U1')"
            ]
          },
          "execution_count": 6,
          "metadata": {},
          "output_type": "execute_result"
        }
      ],
      "source": [
        "# observemos ahora los caracteres únicos\n",
        "unique_chars = get_unique_chars(df)\n",
        "unique_chars"
      ]
    },
    {
      "cell_type": "code",
      "execution_count": 7,
      "metadata": {
        "colab": {
          "base_uri": "https://localhost:8080/"
        },
        "id": "VZQQ8St306bT",
        "outputId": "6b8f9c65-605d-4fc1-9aae-245e30ae67df"
      },
      "outputs": [
        {
          "name": "stdout",
          "output_type": "stream",
          "text": [
            "{'Otra': 0, 'Regulaciones': 1, 'Alianzas': 2, 'Macroeconomia': 3, 'Innovacion': 4, 'Sostenibilidad': 5, 'Reputacion': 6}\n"
          ]
        }
      ],
      "source": [
        "# Extraer los valores únicos de la columna 'Type' manteniendo el orden de aparición\n",
        "unique_labels = df['Type'].unique()\n",
        "\n",
        "# Crear el diccionario label2id\n",
        "label2id = {label: idx for idx, label in enumerate(unique_labels)}\n",
        "\n",
        "# Mostrar el mapeo\n",
        "print(label2id)\n",
        "\n",
        "# Mapear las etiquetas a números en los DataFrames\n",
        "df['labels'] = df['Type'].map(label2id)"
      ]
    },
    {
      "cell_type": "code",
      "execution_count": 8,
      "metadata": {},
      "outputs": [
        {
          "data": {
            "image/png": "[encoded data removed]",
            "text/plain": [
              "<Figure size 1000x600 with 1 Axes>"
            ]
          },
          "metadata": {},
          "output_type": "display_data"
        }
      ],
      "source": [
        "import matplotlib.pyplot as plt\n",
        "import seaborn as sns\n",
        "\n",
        "# Contar la cantidad de noticias por categoría\n",
        "plt.figure(figsize=(10, 6))\n",
        "sns.countplot(data=df, x='Type', order=df['Type'].value_counts().index)\n",
        "plt.xticks(rotation=45)\n",
        "plt.title('Cantidad de noticias por categoría')\n",
        "plt.xlabel('Categoría')\n",
        "plt.ylabel('Cantidad de noticias')\n",
        "plt.show()"
      ]
    },
    {
      "cell_type": "code",
      "execution_count": 24,
      "metadata": {},
      "outputs": [
        {
          "data": {
            "text/plain": [
              "Type\n",
              "Macroeconomia     340\n",
              "Alianzas          247\n",
              "Innovacion        195\n",
              "Regulaciones      142\n",
              "Sostenibilidad    137\n",
              "Otra              130\n",
              "Reputacion         26\n",
              "Name: count, dtype: int64"
            ]
          },
          "execution_count": 24,
          "metadata": {},
          "output_type": "execute_result"
        }
      ],
      "source": [
        "df[\"Type\"].value_counts()"
      ]
    },
    {
      "cell_type": "markdown",
      "metadata": {},
      "source": [
        "## Clasificación de Noticias"
      ]
    },
    {
      "cell_type": "markdown",
      "metadata": {
        "id": "Em6Kml_qDn6F"
      },
      "source": [
        "#### Modelo de clasificación\n",
        "Luego de tener todas las herramientas necesarias para construir el modelo de clasifiación, se procede a la implementación.\n",
        "\n",
        "En primer lugar, se importan todas las librerías necesarias, para el modelado"
      ]
    },
    {
      "cell_type": "code",
      "execution_count": 7,
      "metadata": {
        "id": "rj1QEDjqdCR9"
      },
      "outputs": [
        {
          "name": "stderr",
          "output_type": "stream",
          "text": [
            "d:\\PREGRADO INGENIERÍA DE SISTEMAS E INFORMÁTICA\\2024-2. PLN\\trabajo 2\\.venv\\lib\\site-packages\\tqdm\\auto.py:21: TqdmWarning: IProgress not found. Please update jupyter and ipywidgets. See https://ipywidgets.readthedocs.io/en/stable/user_install.html\n",
            "  from .autonotebook import tqdm as notebook_tqdm\n"
          ]
        }
      ],
      "source": [
        "import pandas as pd\n",
        "import torch\n",
        "from transformers import BertTokenizer, BertForSequenceClassification, AdamW, get_linear_schedule_with_warmup\n",
        "from torch.utils.data import Dataset, DataLoader, RandomSampler, SequentialSampler\n",
        "from sklearn.model_selection import train_test_split\n",
        "from sklearn.metrics import f1_score, recall_score, precision_score, accuracy_score, confusion_matrix\n",
        "import numpy as np\n",
        "import random"
      ]
    },
    {
      "cell_type": "markdown",
      "metadata": {
        "id": "CzAvExsIdENT"
      },
      "source": [
        "Se establece una semilla para todos los modulos, y así asegurar que los resultados sean reproducibles en cada ejecución.\n",
        "Además, se divide el dataset en entrenamientoy validación."
      ]
    },
    {
      "cell_type": "code",
      "execution_count": null,
      "metadata": {
        "id": "VkL7JAcldN10"
      },
      "outputs": [],
      "source": [
        "seed_val = 42\n",
        "random.seed(seed_val)\n",
        "np.random.seed(seed_val)\n",
        "torch.manual_seed(seed_val)\n",
        "torch.cuda.manual_seed_all(seed_val)\n",
        "\n",
        "train_df, val_df = train_test_split(df, test_size=0.1, \n",
        "\t\t\t\t\trandom_state=seed_val, stratify=df['labels'])"
      ]
    },
    {
      "cell_type": "markdown",
      "metadata": {
        "id": "SiSarx2mdNpS"
      },
      "source": [
        "Para el correcto funcionamiento de la librería Pytorch, se define la clase Dataset, que permite preparar y tokenizar el texto de las noticias, y las etiquetas."
      ]
    },
    {
      "cell_type": "code",
      "execution_count": null,
      "metadata": {
        "id": "ZZlzQVQ_eIub"
      },
      "outputs": [],
      "source": [
        "class NewsDataset(Dataset):\n",
        "    # Método de inicialización: configura el dataset con el DataFrame, \n",
        "    # tokenizer y longitud máxima.\n",
        "    def __init__(self, dataframe, tokenizer, max_len):\n",
        "        self.tokenizer = tokenizer\n",
        "        self.data = dataframe\n",
        "        self.news = dataframe.news\n",
        "        self.labels = dataframe.labels\n",
        "        self.max_len = max_len\n",
        "\n",
        "    # Retorna el número total de elementos en el dataset.\n",
        "    def __len__(self):\n",
        "        return len(self.data)\n",
        "\n",
        "    # Devuelve un diccionario con el texto de la noticia, \n",
        "    # sus IDs tokenizados, la máscara de atención y la etiqueta.\n",
        "    def __getitem__(self, index):\n",
        "        news_text = str(self.news.iloc[index])\n",
        "        label = int(self.labels.iloc[index])\n",
        "        encoding = self.tokenizer.encode_plus(\n",
        "            news_text,\n",
        "            add_special_tokens=True,\n",
        "            max_length=self.max_len,\n",
        "            return_token_type_ids=False,\n",
        "            padding='max_length',\n",
        "            truncation=True,\n",
        "            return_attention_mask=True,\n",
        "            return_tensors='pt'\n",
        "        )\n",
        "        return {\n",
        "            'news_text': news_text,\n",
        "            'input_ids': encoding['input_ids'].flatten(),\n",
        "            'attention_mask': encoding['attention_mask'].flatten(),\n",
        "            'labels': torch.tensor(label, dtype=torch.long)\n",
        "        }\n"
      ]
    },
    {
      "cell_type": "markdown",
      "metadata": {
        "id": "FBfQi6rGeShd"
      },
      "source": [
        "Lo siguiente, es cargar tanto el tokenizador, como el modelo de clasifiación, del modelo Bert Multilingüe.\n",
        "\n",
        "Además, se deben definir parámetros como la longitud maxima de secuencia y tamaño del lote, ya que para el entrenamiento se hace una cargar de datos por lotes."
      ]
    },
    {
      "cell_type": "code",
      "execution_count": 10,
      "metadata": {
        "colab": {
          "base_uri": "https://localhost:8080/",
          "height": 336,
          "referenced_widgets": [
            "a2c537843c3d417f9fb72863ab12b1ec",
            "b579c4715b6443159b9ca8ac6a25951d",
            "af21abef811b4509bbea8ed4b2ed7adb",
            "f5ca1d16290a4ca2bcac453b941fbb20",
            "90cb760cb783414491515507342fe99f",
            "998104e6d60048bd825c520f9cae5375",
            "8be2e90d9b6a46d1acbb955642a912ff",
            "476a7106985b44148c3cae0b3e04e8e7",
            "aca9afd5cf0846b98a7ebee6a7f0dda0",
            "df0e05bac3bb4fd3b095febbf5bb52f1",
            "183a511b819440ee93d48846064123a5",
            "fb3dc2f7774948b0940076110b17926c",
            "3a3bb35031ac4546abc433b3b67f7266",
            "cbb3694c648d4ae4bf5edfb77e3f0581",
            "c90baa5758dd42499cd18ad6e345dc48",
            "9aadc3949e814a819bb27bba34177f45",
            "c28c20c7035742d1969af9f5660ab534",
            "dfaf29afcf224668ac0c142f18d6fcc6",
            "50a710ec6b604756a1be356039f0e8c0",
            "62abd81c3d10413ebb89e1066d00dd42",
            "5fccdbd40c2a424db8c72c03852a2976",
            "c7c372a800044b61b3ea17681aaf6b0c",
            "058ea0c3e4634373a93a7f6c8cfddbaa",
            "d8efc3cfac1441d385f7c6e069dcb413",
            "627bae6561dd49b79c35e4fe3eab2676",
            "b151108a0cec40c8b7aca3b625c2d85d",
            "9f9a2157c19a4752aad8311b4bf27b72",
            "1e7504e7687a42c2b6ebd6850e4a8533",
            "2fceea4a166141f091f7c786dc8d146d",
            "691a3507e4764825a322c6c869d938d8",
            "bd0973906dfa48dd8d616f4f23d3c1e1",
            "6d351739dd8542f1854394ea82a9e806",
            "18f38b40db1d41f6bbe2dd7ad39b0f62",
            "ad56af58cf4141fea1ad8b950a56cf38",
            "3e8c698f04534dc8a1c848eaedd78747",
            "79b2bac493c24b83a76a960ba21d8eb7",
            "7059d7fe03eb49a3947258059976b66c",
            "c7e608aa3011412d828cf64c141ea582",
            "883f0351a4894a259b137c2ee0530c41",
            "c721176b24ad4277b1f1fff33d4364e9",
            "26e8d119786c47a9b5e244899249084d",
            "b91b54524c4345ee9996a6b3037822bb",
            "011aeea96d394853a5c38e90ce762ac0",
            "7e6bf327ec2241bba555cdd897a53246",
            "439526feaf4b46aabb4d0194efb71f45",
            "80d2320aa1764f82b1ba89bf53d59deb",
            "5e70079684d940cfa18dbb74e5434faf",
            "4cbd99fc969b4c8eb4f4092ca08fe437",
            "fe8325509f2c4a9291092402a3982fb1",
            "1fcb104a7d0747e6abf694344d1aaf15",
            "5f36175f9aaa45249b9b7d2ac5c7d5b2",
            "b2785c0b505e41c1b1e046a2704a9c34",
            "ed653ffe6db54c73ab453b27e38dad0b",
            "852e712bbeb5436ea36aeab81222cdef",
            "4033d396d96f44bb938dab195a3504ed"
          ]
        },
        "id": "VMx_T-p9e2g-",
        "outputId": "7104f1d9-0b0d-46f1-e783-ac0d2710399e"
      },
      "outputs": [
        {
          "name": "stderr",
          "output_type": "stream",
          "text": [
            "Some weights of BertForSequenceClassification were not initialized from the model checkpoint at bert-base-multilingual-cased and are newly initialized: ['classifier.bias', 'classifier.weight']\n",
            "You should probably TRAIN this model on a down-stream task to be able to use it for predictions and inference.\n"
          ]
        }
      ],
      "source": [
        "# Definir el nombre del modelo y cargar el tokenizador y el modelo de clasificación de secuencias\n",
        "MODEL_NAME = 'bert-base-multilingual-cased'\n",
        "tokenizer = BertTokenizer.from_pretrained(MODEL_NAME)\n",
        "model = BertForSequenceClassification.from_pretrained(MODEL_NAME, num_labels=df['labels'].nunique())\n",
        "\n",
        "# Configurar hiperparámetros: longitud máxima de secuencia y tamaño de batch\n",
        "MAX_LEN = 128\n",
        "BATCH_SIZE = 16\n",
        "\n",
        "# Crear datasets de entrenamiento y validación utilizando la clase NewsDataset\n",
        "train_dataset = NewsDataset(train_df, tokenizer, MAX_LEN)\n",
        "val_dataset = NewsDataset(val_df, tokenizer, MAX_LEN)\n",
        "\n",
        "# Crear dataloaders para entrenamiento y validación con sus respectivos samplers\n",
        "train_dataloader = DataLoader(train_dataset, sampler=RandomSampler(train_dataset), batch_size=BATCH_SIZE)\n",
        "val_dataloader = DataLoader(val_dataset, sampler=SequentialSampler(val_dataset), batch_size=BATCH_SIZE)\n"
      ]
    },
    {
      "cell_type": "markdown",
      "metadata": {
        "id": "MUXySMeOe7E_"
      },
      "source": [
        "Debido a que este cuaderno se desarrollo en un entorno de ejecución con unidad de procesamiento gráfico, se selecciona el dispositivo de entrenamiento.\n"
      ]
    },
    {
      "cell_type": "code",
      "execution_count": 11,
      "metadata": {
        "id": "gzFTZpYOfOB8"
      },
      "outputs": [],
      "source": [
        "device = torch.device(\"cuda\" if torch.cuda.is_available() else \"cpu\")\n",
        "model = model.to(device)"
      ]
    },
    {
      "cell_type": "code",
      "execution_count": 12,
      "metadata": {},
      "outputs": [
        {
          "data": {
            "text/plain": [
              "True"
            ]
          },
          "execution_count": 12,
          "metadata": {},
          "output_type": "execute_result"
        }
      ],
      "source": [
        "torch.cuda.is_available()"
      ]
    },
    {
      "cell_type": "markdown",
      "metadata": {
        "id": "36d7f_JZfPQN"
      },
      "source": [
        "Para el entrenamiento, inicialmente se definen el optimizador, y la  cantidad de épocas por las que se va a entrenar.\n",
        "\n",
        "Finalmente, configuraciones adicionales para el framework sobre el que se trabaja, y el bucle de entrenamiento."
      ]
    },
    {
      "cell_type": "code",
      "execution_count": null,
      "metadata": {
        "colab": {
          "base_uri": "https://localhost:8080/"
        },
        "id": "Yep8IDsuftaE",
        "outputId": "d9940d97-b4ea-4bfb-eb6e-f5fbd2bc5ff9"
      },
      "outputs": [
        {
          "name": "stderr",
          "output_type": "stream",
          "text": [
            "d:\\PREGRADO INGENIERÍA DE SISTEMAS E INFORMÁTICA\\2024-2. PLN\\trabajo 2\\.venv\\lib\\site-packages\\transformers\\optimization.py:640: FutureWarning: This implementation of AdamW is deprecated and will be removed in a future version. Use the PyTorch implementation torch.optim.AdamW instead, or set `no_deprecation_warning=True` to disable this warning\n",
            "  warnings.warn(\n"
          ]
        },
        {
          "name": "stdout",
          "output_type": "stream",
          "text": [
            "\n",
            "=== Epoch 1/10 ===\n",
            "Pérdida en entrenamiento para epoch 1: 0.9408\n",
            "\n",
            "=== Epoch 2/10 ===\n",
            "Pérdida en entrenamiento para epoch 2: 0.7929\n",
            "\n",
            "=== Epoch 3/10 ===\n",
            "Pérdida en entrenamiento para epoch 3: 0.6894\n",
            "\n",
            "=== Epoch 4/10 ===\n",
            "Pérdida en entrenamiento para epoch 4: 0.6079\n",
            "\n",
            "=== Epoch 5/10 ===\n",
            "Pérdida en entrenamiento para epoch 5: 0.5142\n",
            "\n",
            "=== Epoch 6/10 ===\n",
            "Pérdida en entrenamiento para epoch 6: 0.4588\n",
            "\n",
            "=== Epoch 7/10 ===\n",
            "Pérdida en entrenamiento para epoch 7: 0.3475\n",
            "\n",
            "=== Epoch 8/10 ===\n",
            "Pérdida en entrenamiento para epoch 8: 0.2984\n",
            "\n",
            "=== Epoch 9/10 ===\n",
            "Pérdida en entrenamiento para epoch 9: 0.2760\n",
            "\n",
            "=== Epoch 10/10 ===\n",
            "Pérdida en entrenamiento para epoch 10: 0.2493\n"
          ]
        }
      ],
      "source": [
        "# Configuración del optimizador, scheduler y parámetros de entrenamiento\n",
        "optimizer = AdamW(model.parameters(), lr=2e-5, correct_bias=False)\n",
        "epochs = 10\n",
        "total_steps = len(train_dataloader) * epochs\n",
        "scheduler = get_linear_schedule_with_warmup(optimizer, num_warmup_steps=0, num_training_steps=total_steps)\n",
        "\n",
        "# Bucle de entrenamiento a través de cada epoch\n",
        "for epoch in range(epochs):\n",
        "    print(f'\\n=== Epoch {epoch+1}/{epochs} ===')\n",
        "    model.train()  # Establece el modelo en modo entrenamiento\n",
        "    total_train_loss = 0\n",
        "\n",
        "    # Iteración sobre cada batch del dataloader de entrenamiento\n",
        "    for batch in train_dataloader:\n",
        "        # Se reinician los gradientes para evitar acumulación de gradientes de pasos anteriores\n",
        "        optimizer.zero_grad()\n",
        "\n",
        "        # Se extraen y mueven los tensores de entrada y etiquetas al dispositivo (CPU/GPU)\n",
        "        input_ids = batch['input_ids'].to(device)\n",
        "        attention_mask = batch['attention_mask'].to(device)\n",
        "        labels = batch['labels'].to(device)\n",
        "\n",
        "        # Se realiza la pasada hacia adelante del modelo con los datos del batch,\n",
        "        # calculando las predicciones y la pérdida en función de las etiquetas reales\n",
        "        outputs = model(input_ids=input_ids, attention_mask=attention_mask, labels=labels)\n",
        "        loss = outputs.loss\n",
        "\n",
        "        # Se acumula la pérdida obtenida para poder calcular la pérdida media al finalizar el epoch\n",
        "        total_train_loss += loss.item()\n",
        "\n",
        "        # Se realiza la propagación hacia atrás (backpropagation) para calcular los gradientes\n",
        "        loss.backward()\n",
        "\n",
        "        # Evitar gradientes explosivos mediante clipping\n",
        "        torch.nn.utils.clip_grad_norm_(model.parameters(), max_norm=1.0)\n",
        "        optimizer.step()\n",
        "        scheduler.step()\n",
        "\n",
        "    avg_train_loss = total_train_loss / len(train_dataloader)\n",
        "    print(f'Pérdida en entrenamiento para epoch {epoch+1}: {avg_train_loss:.4f}')"
      ]
    },
    {
      "cell_type": "markdown",
      "metadata": {
        "id": "rlDlheM5fzZj"
      },
      "source": [
        "Una vez entrenado el modelo, se calculan las métricas objetivo, y la matriz de confusión para el set de validación."
      ]
    },
    {
      "cell_type": "code",
      "execution_count": null,
      "metadata": {
        "colab": {
          "base_uri": "https://localhost:8080/"
        },
        "id": "4FnWhi5ef9yJ",
        "outputId": "70e15fcf-b1f6-4fb2-eee7-a7e7802ed2fe"
      },
      "outputs": [
        {
          "name": "stdout",
          "output_type": "stream",
          "text": [
            "\n",
            "=== Evaluación Final en el Set de Validación ===\n",
            "Pérdida en validación: 0.7786\n",
            "Accuracy: 0.8443\n",
            "F1 Score: 0.8433\n",
            "Recall: 0.8443\n",
            "Precision: 0.8509\n"
          ]
        }
      ],
      "source": [
        "# Se configura el modelo en modo evaluación para desactivar funciones como dropout\n",
        "model.eval()\n",
        "all_preds = []\n",
        "all_labels = []\n",
        "total_val_loss = 0\n",
        "\n",
        "# Se realiza la evaluación sin calcular gradientes para optimizar el rendimiento\n",
        "with torch.no_grad():\n",
        "\n",
        "    # Se itera sobre cada lote del conjunto de validación\n",
        "    for batch in val_dataloader:\n",
        "\n",
        "        # Se transfieren los datos (inputs, máscaras y etiquetas) al dispositivo de cómputo\n",
        "        input_ids = batch['input_ids'].to(device)\n",
        "        attention_mask = batch['attention_mask'].to(device)\n",
        "        labels = batch['labels'].to(device)\n",
        "\n",
        "        # Se realiza la inferencia y se obtienen la pérdida y las salidas del modelo\n",
        "        outputs = model(input_ids=input_ids, attention_mask=attention_mask, labels=labels)\n",
        "        loss = outputs.loss\n",
        "        logits = outputs.logits\n",
        "        total_val_loss += loss.item()\n",
        "\n",
        "        # Se calculan las predicciones y se almacenan para el análisis posterior\n",
        "        preds = torch.argmax(logits, dim=1)\n",
        "        all_preds.extend(preds.cpu().numpy())\n",
        "        all_labels.extend(labels.cpu().numpy())\n",
        "        \n",
        "# Se calculan las métricas de evaluación a partir de los resultados obtenidos\n",
        "avg_val_loss = total_val_loss / len(val_dataloader)\n",
        "accuracy_val = accuracy_score(all_labels, all_preds)\n",
        "f1 = f1_score(all_labels, all_preds, average='weighted')\n",
        "recall = recall_score(all_labels, all_preds, average='weighted')\n",
        "precision = precision_score(all_labels, all_preds, average='weighted')\n",
        "conf_matrix = confusion_matrix(all_labels, all_preds)\n",
        "\n",
        "# Se muestran los resultados finales de la evaluación\n",
        "print(\"\\n=== Evaluación Final en el Set de Validación ===\")\n",
        "print(f'Pérdida en validación: {avg_val_loss:.4f}')\n",
        "print(f'Accuracy: {accuracy_val:.4f}')\n",
        "print(f'F1 Score: {f1:.4f}')\n",
        "print(f'Recall: {recall:.4f}')\n",
        "print(f'Precision: {precision:.4f}')"
      ]
    },
    {
      "cell_type": "code",
      "execution_count": 19,
      "metadata": {
        "colab": {
          "base_uri": "https://localhost:8080/",
          "height": 660
        },
        "id": "wt5-EkpWh882",
        "outputId": "d279b36e-8952-4a3b-9c88-5f3b531ffbed"
      },
      "outputs": [
        {
          "data": {
            "image/png": "[encoded data removed]",
            "text/plain": [
              "<Figure size 800x600 with 2 Axes>"
            ]
          },
          "metadata": {},
          "output_type": "display_data"
        }
      ],
      "source": [
        "import seaborn as sns\n",
        "import matplotlib.pyplot as plt\n",
        "\n",
        "conf_matrix_df = pd.DataFrame(conf_matrix, index=unique_labels, columns=unique_labels)\n",
        "\n",
        "plt.figure(figsize=(8, 6))\n",
        "sns.heatmap(conf_matrix_df, annot=True, fmt='d', cmap='Blues')\n",
        "plt.title(\"Matriz de Confusión\")\n",
        "plt.xlabel(\"Predicción\")\n",
        "plt.ylabel(\"Etiqueta Verdadera\")\n",
        "plt.show()\n"
      ]
    },
    {
      "cell_type": "markdown",
      "metadata": {
        "id": "dV77DT2ImRUr"
      },
      "source": [
        "#### Conclusiones\n",
        "\n",
        "1. **Buen rendimiento general y alta precisión**  \n",
        "   El modelo muestra un desempeño sólido con un Accuracy cercano al 85% y un F1 Score de 0.84, lo que indica que, en términos generales, clasifica correctamente la mayoría de las noticias. La precisión (0.8654) sugiere que, cuando el modelo predice una clase, suele acertar.\n",
        "\n",
        "2. **Clases mayoritarias mejor identificadas**  \n",
        "   En la matriz de confusión se ve que las clases con más ejemplos (como “Macroeconomia” y “Alianzas”) tienden a ser reconocidas con mayor exactitud, acumulando un mayor número de aciertos. Esto indica que el modelo aprende mejor las categorías con más datos de entrenamiento.\n",
        "\n",
        "3. **Áreas de confusión en clases similares o con pocos ejemplos**  \n",
        "   Algunas clases, como “Innovacion” o “Reputacion”, presentan más confusiones (posiblemente por menos datos o cercanía semántica con otras categorías). Esto sugiere que, para seguir mejorando, convendría aumentar o equilibrar el número de ejemplos en estas categorías."
      ]
    },
    {
      "cell_type": "code",
      "execution_count": null,
      "metadata": {},
      "outputs": [],
      "source": [
        "!mkdir -p models/cat/model\n",
        "!mkdir -p models/cat/tokenizer"
      ]
    },
    {
      "cell_type": "code",
      "execution_count": null,
      "metadata": {},
      "outputs": [],
      "source": [
        "# 1. Crear directorios\n",
        "import os\n",
        "import json\n",
        "\n",
        "os.makedirs('models/cat/model', exist_ok=True)\n",
        "os.makedirs('models/cat/tokenizer', exist_ok=True)\n",
        "\n",
        "\n",
        "# 2. Guardar el modelo entrenado\n",
        "model.save_pretrained('models/cat/model')\n",
        "\n",
        "# 3. Guardar el tokenizador\n",
        "tokenizer.save_pretrained('models/cat/tokenizer')\n",
        "\n",
        "# 4. Guardar el mapeo de etiquetas\n",
        "with open('models/cat/label_mapping.json', 'w', encoding='utf-8') as f:\n",
        "    json.dump(label2id, f, ensure_ascii=False, indent=2)"
      ]
    },
    {
      "cell_type": "markdown",
      "metadata": {},
      "source": [
        "## Resumen Abstractivo de Noticias"
      ]
    },
    {
      "cell_type": "markdown",
      "metadata": {},
      "source": [
        "A partir del mismo conjunto de datos usado para la clasificación de noticias, y la misma limpieza, se procede a desarrollar el resumen de noticias usando un modelo transformer pre-entreado de HuggingFace"
      ]
    },
    {
      "cell_type": "markdown",
      "metadata": {},
      "source": [
        "Primero, se importan todos los paquetes adicionales necesarios:"
      ]
    },
    {
      "cell_type": "code",
      "execution_count": 9,
      "metadata": {},
      "outputs": [
        {
          "name": "stderr",
          "output_type": "stream",
          "text": [
            "d:\\PREGRADO INGENIERÍA DE SISTEMAS E INFORMÁTICA\\2024-2. PLN\\trabajo 2\\.venv\\lib\\site-packages\\tqdm\\auto.py:21: TqdmWarning: IProgress not found. Please update jupyter and ipywidgets. See https://ipywidgets.readthedocs.io/en/stable/user_install.html\n",
            "  from .autonotebook import tqdm as notebook_tqdm\n"
          ]
        }
      ],
      "source": [
        "# Importar las bibliotecas necesarias\n",
        "from transformers import pipeline, AutoTokenizer\n",
        "from rouge_score import rouge_scorer"
      ]
    },
    {
      "cell_type": "markdown",
      "metadata": {},
      "source": [
        "### Modelado"
      ]
    },
    {
      "cell_type": "markdown",
      "metadata": {},
      "source": [
        "Se usará el modelo _Spanish BERT2BERT (BETO) fine-tuned on MLSUM ES for summarization_ es cual está basado en BETO, un modelo de basado en BERT entrenado en un corpus de español; el modelo usado es multilengua, entrenado en un conjunto de datos que contiene más de 1.5 millones de artículos/resúmenes en Francés, Alemán, Español, Ruso y Turco."
      ]
    },
    {
      "cell_type": "code",
      "execution_count": 10,
      "metadata": {},
      "outputs": [
        {
          "name": "stderr",
          "output_type": "stream",
          "text": [
            "Config of the encoder: <class 'transformers.models.bert.modeling_bert.BertModel'> is overwritten by shared encoder config: BertConfig {\n",
            "  \"_name_or_path\": \"dccuchile/bert-base-spanish-wwm-cased\",\n",
            "  \"architectures\": [\n",
            "    \"BertForMaskedLM\"\n",
            "  ],\n",
            "  \"attention_probs_dropout_prob\": 0.1,\n",
            "  \"classifier_dropout\": null,\n",
            "  \"gradient_checkpointing\": false,\n",
            "  \"hidden_act\": \"gelu\",\n",
            "  \"hidden_dropout_prob\": 0.1,\n",
            "  \"hidden_size\": 768,\n",
            "  \"initializer_range\": 0.02,\n",
            "  \"intermediate_size\": 3072,\n",
            "  \"layer_norm_eps\": 1e-12,\n",
            "  \"max_position_embeddings\": 512,\n",
            "  \"model_type\": \"bert\",\n",
            "  \"num_attention_heads\": 12,\n",
            "  \"num_hidden_layers\": 12,\n",
            "  \"output_past\": true,\n",
            "  \"pad_token_id\": 1,\n",
            "  \"position_embedding_type\": \"absolute\",\n",
            "  \"torch_dtype\": \"float32\",\n",
            "  \"transformers_version\": \"4.49.0\",\n",
            "  \"type_vocab_size\": 2,\n",
            "  \"use_cache\": true,\n",
            "  \"vocab_size\": 31002\n",
            "}\n",
            "\n",
            "Config of the decoder: <class 'transformers.models.bert.modeling_bert.BertLMHeadModel'> is overwritten by shared decoder config: BertConfig {\n",
            "  \"_name_or_path\": \"dccuchile/bert-base-spanish-wwm-cased\",\n",
            "  \"add_cross_attention\": true,\n",
            "  \"architectures\": [\n",
            "    \"BertForMaskedLM\"\n",
            "  ],\n",
            "  \"attention_probs_dropout_prob\": 0.1,\n",
            "  \"classifier_dropout\": null,\n",
            "  \"gradient_checkpointing\": false,\n",
            "  \"hidden_act\": \"gelu\",\n",
            "  \"hidden_dropout_prob\": 0.1,\n",
            "  \"hidden_size\": 768,\n",
            "  \"initializer_range\": 0.02,\n",
            "  \"intermediate_size\": 3072,\n",
            "  \"is_decoder\": true,\n",
            "  \"layer_norm_eps\": 1e-12,\n",
            "  \"max_position_embeddings\": 512,\n",
            "  \"model_type\": \"bert\",\n",
            "  \"num_attention_heads\": 12,\n",
            "  \"num_hidden_layers\": 12,\n",
            "  \"output_past\": true,\n",
            "  \"pad_token_id\": 1,\n",
            "  \"position_embedding_type\": \"absolute\",\n",
            "  \"torch_dtype\": \"float32\",\n",
            "  \"transformers_version\": \"4.49.0\",\n",
            "  \"type_vocab_size\": 2,\n",
            "  \"use_cache\": true,\n",
            "  \"vocab_size\": 31002\n",
            "}\n",
            "\n",
            "The following encoder weights were not tied to the decoder ['bert/pooler']\n",
            "The following encoder weights were not tied to the decoder ['bert/pooler']\n",
            "The following encoder weights were not tied to the decoder ['bert/pooler']\n",
            "The following encoder weights were not tied to the decoder ['bert/pooler']\n",
            "Device set to use cuda:0\n"
          ]
        }
      ],
      "source": [
        "# Cargar el tokenizer preentrenado para el modelo de resumen en español\n",
        "tokenizer = AutoTokenizer.from_pretrained(\"mrm8488/bert2bert_shared-spanish-finetuned-summarization\")\n",
        "\n",
        "# Cargar el pipeline de resumen utilizando el modelo y tokenizer preentrenados\n",
        "summarizer = pipeline(\"summarization\", model=\"mrm8488/bert2bert_shared-spanish-finetuned-summarization\", tokenizer=tokenizer)"
      ]
    },
    {
      "cell_type": "markdown",
      "metadata": {},
      "source": [
        "Lo siguiente es definir una función para resumir texto utilizando el pipeline. Haremos que la longitud máxima sea de 130 caracteres y la longitud mínima de 30."
      ]
    },
    {
      "cell_type": "code",
      "execution_count": 12,
      "metadata": {},
      "outputs": [],
      "source": [
        "# Definir una función para resumir el texto utilizando el pipeline de resumen\n",
        "def summarize_text(text):\n",
        "    summary = summarizer(text, max_length=130, min_length=30, do_sample=False)\n",
        "    return summary[0]['summary_text']"
      ]
    },
    {
      "cell_type": "markdown",
      "metadata": {},
      "source": [
        "Para poder aplicar el Pipeline es necesario truncar el texto a la longitud máxima que este soporta."
      ]
    },
    {
      "cell_type": "code",
      "execution_count": 11,
      "metadata": {},
      "outputs": [],
      "source": [
        "def truncate_text(text, tokenizer, max_length):\n",
        "\ttokens = tokenizer.encode(text, add_special_tokens=False)\n",
        "\tif len(tokens) > max_length:\n",
        "\t\ttokens = tokens[:max_length]\n",
        "\treturn tokenizer.decode(tokens, clean_up_tokenization_spaces=True)"
      ]
    },
    {
      "cell_type": "code",
      "execution_count": 13,
      "metadata": {},
      "outputs": [
        {
          "name": "stderr",
          "output_type": "stream",
          "text": [
            "Token indices sequence length is longer than the specified maximum sequence length for this model (560 > 512). Running this sequence through the model will result in indexing errors\n",
            "You seem to be using the pipelines sequentially on GPU. In order to maximize efficiency please use a dataset\n",
            "Your max_length is set to 130, but your input_length is only 120. Since this is a summarization task, where outputs shorter than the input are typically wanted, you might consider decreasing max_length manually, e.g. summarizer('...', max_length=60)\n",
            "Your max_length is set to 130, but your input_length is only 2. Since this is a summarization task, where outputs shorter than the input are typically wanted, you might consider decreasing max_length manually, e.g. summarizer('...', max_length=1)\n",
            "Your max_length is set to 130, but your input_length is only 106. Since this is a summarization task, where outputs shorter than the input are typically wanted, you might consider decreasing max_length manually, e.g. summarizer('...', max_length=53)\n",
            "Your max_length is set to 130, but your input_length is only 113. Since this is a summarization task, where outputs shorter than the input are typically wanted, you might consider decreasing max_length manually, e.g. summarizer('...', max_length=56)\n",
            "Your max_length is set to 130, but your input_length is only 120. Since this is a summarization task, where outputs shorter than the input are typically wanted, you might consider decreasing max_length manually, e.g. summarizer('...', max_length=60)\n",
            "Your max_length is set to 130, but your input_length is only 97. Since this is a summarization task, where outputs shorter than the input are typically wanted, you might consider decreasing max_length manually, e.g. summarizer('...', max_length=48)\n",
            "Your max_length is set to 130, but your input_length is only 97. Since this is a summarization task, where outputs shorter than the input are typically wanted, you might consider decreasing max_length manually, e.g. summarizer('...', max_length=48)\n",
            "Your max_length is set to 130, but your input_length is only 106. Since this is a summarization task, where outputs shorter than the input are typically wanted, you might consider decreasing max_length manually, e.g. summarizer('...', max_length=53)\n",
            "Your max_length is set to 130, but your input_length is only 2. Since this is a summarization task, where outputs shorter than the input are typically wanted, you might consider decreasing max_length manually, e.g. summarizer('...', max_length=1)\n",
            "Your max_length is set to 130, but your input_length is only 97. Since this is a summarization task, where outputs shorter than the input are typically wanted, you might consider decreasing max_length manually, e.g. summarizer('...', max_length=48)\n",
            "Your max_length is set to 130, but your input_length is only 129. Since this is a summarization task, where outputs shorter than the input are typically wanted, you might consider decreasing max_length manually, e.g. summarizer('...', max_length=64)\n",
            "Your max_length is set to 130, but your input_length is only 81. Since this is a summarization task, where outputs shorter than the input are typically wanted, you might consider decreasing max_length manually, e.g. summarizer('...', max_length=40)\n",
            "Your max_length is set to 130, but your input_length is only 99. Since this is a summarization task, where outputs shorter than the input are typically wanted, you might consider decreasing max_length manually, e.g. summarizer('...', max_length=49)\n",
            "Your max_length is set to 130, but your input_length is only 97. Since this is a summarization task, where outputs shorter than the input are typically wanted, you might consider decreasing max_length manually, e.g. summarizer('...', max_length=48)\n",
            "Your max_length is set to 130, but your input_length is only 2. Since this is a summarization task, where outputs shorter than the input are typically wanted, you might consider decreasing max_length manually, e.g. summarizer('...', max_length=1)\n",
            "Your max_length is set to 130, but your input_length is only 106. Since this is a summarization task, where outputs shorter than the input are typically wanted, you might consider decreasing max_length manually, e.g. summarizer('...', max_length=53)\n",
            "Your max_length is set to 130, but your input_length is only 109. Since this is a summarization task, where outputs shorter than the input are typically wanted, you might consider decreasing max_length manually, e.g. summarizer('...', max_length=54)\n",
            "Your max_length is set to 130, but your input_length is only 54. Since this is a summarization task, where outputs shorter than the input are typically wanted, you might consider decreasing max_length manually, e.g. summarizer('...', max_length=27)\n",
            "Your max_length is set to 130, but your input_length is only 128. Since this is a summarization task, where outputs shorter than the input are typically wanted, you might consider decreasing max_length manually, e.g. summarizer('...', max_length=64)\n",
            "Your max_length is set to 130, but your input_length is only 87. Since this is a summarization task, where outputs shorter than the input are typically wanted, you might consider decreasing max_length manually, e.g. summarizer('...', max_length=43)\n",
            "Your max_length is set to 130, but your input_length is only 107. Since this is a summarization task, where outputs shorter than the input are typically wanted, you might consider decreasing max_length manually, e.g. summarizer('...', max_length=53)\n",
            "Your max_length is set to 130, but your input_length is only 106. Since this is a summarization task, where outputs shorter than the input are typically wanted, you might consider decreasing max_length manually, e.g. summarizer('...', max_length=53)\n",
            "Your max_length is set to 130, but your input_length is only 118. Since this is a summarization task, where outputs shorter than the input are typically wanted, you might consider decreasing max_length manually, e.g. summarizer('...', max_length=59)\n",
            "Your max_length is set to 130, but your input_length is only 69. Since this is a summarization task, where outputs shorter than the input are typically wanted, you might consider decreasing max_length manually, e.g. summarizer('...', max_length=34)\n",
            "Your max_length is set to 130, but your input_length is only 118. Since this is a summarization task, where outputs shorter than the input are typically wanted, you might consider decreasing max_length manually, e.g. summarizer('...', max_length=59)\n",
            "Your max_length is set to 130, but your input_length is only 119. Since this is a summarization task, where outputs shorter than the input are typically wanted, you might consider decreasing max_length manually, e.g. summarizer('...', max_length=59)\n",
            "Your max_length is set to 130, but your input_length is only 119. Since this is a summarization task, where outputs shorter than the input are typically wanted, you might consider decreasing max_length manually, e.g. summarizer('...', max_length=59)\n",
            "Your max_length is set to 130, but your input_length is only 107. Since this is a summarization task, where outputs shorter than the input are typically wanted, you might consider decreasing max_length manually, e.g. summarizer('...', max_length=53)\n",
            "Your max_length is set to 130, but your input_length is only 119. Since this is a summarization task, where outputs shorter than the input are typically wanted, you might consider decreasing max_length manually, e.g. summarizer('...', max_length=59)\n",
            "Your max_length is set to 130, but your input_length is only 87. Since this is a summarization task, where outputs shorter than the input are typically wanted, you might consider decreasing max_length manually, e.g. summarizer('...', max_length=43)\n",
            "Your max_length is set to 130, but your input_length is only 122. Since this is a summarization task, where outputs shorter than the input are typically wanted, you might consider decreasing max_length manually, e.g. summarizer('...', max_length=61)\n",
            "Your max_length is set to 130, but your input_length is only 97. Since this is a summarization task, where outputs shorter than the input are typically wanted, you might consider decreasing max_length manually, e.g. summarizer('...', max_length=48)\n",
            "Your max_length is set to 130, but your input_length is only 2. Since this is a summarization task, where outputs shorter than the input are typically wanted, you might consider decreasing max_length manually, e.g. summarizer('...', max_length=1)\n",
            "Your max_length is set to 130, but your input_length is only 109. Since this is a summarization task, where outputs shorter than the input are typically wanted, you might consider decreasing max_length manually, e.g. summarizer('...', max_length=54)\n",
            "Your max_length is set to 130, but your input_length is only 54. Since this is a summarization task, where outputs shorter than the input are typically wanted, you might consider decreasing max_length manually, e.g. summarizer('...', max_length=27)\n",
            "Your max_length is set to 130, but your input_length is only 113. Since this is a summarization task, where outputs shorter than the input are typically wanted, you might consider decreasing max_length manually, e.g. summarizer('...', max_length=56)\n",
            "Your max_length is set to 130, but your input_length is only 81. Since this is a summarization task, where outputs shorter than the input are typically wanted, you might consider decreasing max_length manually, e.g. summarizer('...', max_length=40)\n",
            "Your max_length is set to 130, but your input_length is only 97. Since this is a summarization task, where outputs shorter than the input are typically wanted, you might consider decreasing max_length manually, e.g. summarizer('...', max_length=48)\n"
          ]
        },
        {
          "data": {
            "text/html": [
              "<div>\n",
              "<style scoped>\n",
              "    .dataframe tbody tr th:only-of-type {\n",
              "        vertical-align: middle;\n",
              "    }\n",
              "\n",
              "    .dataframe tbody tr th {\n",
              "        vertical-align: top;\n",
              "    }\n",
              "\n",
              "    .dataframe thead th {\n",
              "        text-align: right;\n",
              "    }\n",
              "</style>\n",
              "<table border=\"1\" class=\"dataframe\">\n",
              "  <thead>\n",
              "    <tr style=\"text-align: right;\">\n",
              "      <th></th>\n",
              "      <th>news</th>\n",
              "      <th>Type</th>\n",
              "      <th>labels</th>\n",
              "      <th>news_truncated</th>\n",
              "      <th>summary</th>\n",
              "    </tr>\n",
              "  </thead>\n",
              "  <tbody>\n",
              "    <tr>\n",
              "      <th>0</th>\n",
              "      <td>durante el foro la banca articulador empresari...</td>\n",
              "      <td>Otra</td>\n",
              "      <td>0</td>\n",
              "      <td>durante el foro la banca articulador empresari...</td>\n",
              "      <td>El director de sostenibilidad y clientes globa...</td>\n",
              "    </tr>\n",
              "    <tr>\n",
              "      <th>1</th>\n",
              "      <td>el regulador de valores de china dijo el domin...</td>\n",
              "      <td>Regulaciones</td>\n",
              "      <td>1</td>\n",
              "      <td>el regulador de valores de china dijo el domin...</td>\n",
              "      <td>El regulador de valores de China afirma que ex...</td>\n",
              "    </tr>\n",
              "    <tr>\n",
              "      <th>2</th>\n",
              "      <td>en una industria históricamente masculina como...</td>\n",
              "      <td>Alianzas</td>\n",
              "      <td>2</td>\n",
              "      <td>en una industria históricamente masculina como...</td>\n",
              "      <td>En una industria históricamente masculina como...</td>\n",
              "    </tr>\n",
              "    <tr>\n",
              "      <th>3</th>\n",
              "      <td>con el dato de marzo el ipc interanual encaden...</td>\n",
              "      <td>Macroeconomia</td>\n",
              "      <td>3</td>\n",
              "      <td>con el dato de marzo el ipc interanual encaden...</td>\n",
              "      <td>La inflación se sitúa en 22 puntos por debajo ...</td>\n",
              "    </tr>\n",
              "    <tr>\n",
              "      <th>4</th>\n",
              "      <td>ayer en cartagena se dio inicio a la versión n...</td>\n",
              "      <td>Otra</td>\n",
              "      <td>0</td>\n",
              "      <td>ayer en cartagena se dio inicio a la versión n...</td>\n",
              "      <td>El presidente de bbva colombia, presidente de ...</td>\n",
              "    </tr>\n",
              "  </tbody>\n",
              "</table>\n",
              "</div>"
            ],
            "text/plain": [
              "                                                news           Type  labels  \\\n",
              "0  durante el foro la banca articulador empresari...           Otra       0   \n",
              "1  el regulador de valores de china dijo el domin...   Regulaciones       1   \n",
              "2  en una industria históricamente masculina como...       Alianzas       2   \n",
              "3  con el dato de marzo el ipc interanual encaden...  Macroeconomia       3   \n",
              "4  ayer en cartagena se dio inicio a la versión n...           Otra       0   \n",
              "\n",
              "                                      news_truncated  \\\n",
              "0  durante el foro la banca articulador empresari...   \n",
              "1  el regulador de valores de china dijo el domin...   \n",
              "2  en una industria históricamente masculina como...   \n",
              "3  con el dato de marzo el ipc interanual encaden...   \n",
              "4  ayer en cartagena se dio inicio a la versión n...   \n",
              "\n",
              "                                             summary  \n",
              "0  El director de sostenibilidad y clientes globa...  \n",
              "1  El regulador de valores de China afirma que ex...  \n",
              "2  En una industria históricamente masculina como...  \n",
              "3  La inflación se sitúa en 22 puntos por debajo ...  \n",
              "4  El presidente de bbva colombia, presidente de ...  "
            ]
          },
          "execution_count": 13,
          "metadata": {},
          "output_type": "execute_result"
        }
      ],
      "source": [
        "# Aplicar la función summarize_text a la columna news\n",
        "df['news_truncated'] = df['news'].apply(lambda x: truncate_text(x, tokenizer, 510))\n",
        "df['summary'] = df['news_truncated'].apply(summarize_text)\n",
        "df.head()"
      ]
    },
    {
      "cell_type": "markdown",
      "metadata": {},
      "source": [
        "Guardamos los datos."
      ]
    },
    {
      "cell_type": "code",
      "execution_count": null,
      "metadata": {},
      "outputs": [],
      "source": [
        "!mkdir -p data/interim"
      ]
    },
    {
      "cell_type": "code",
      "execution_count": null,
      "metadata": {},
      "outputs": [],
      "source": [
        "df.to_csv('data/interim/df_summarized.csv', index=False)"
      ]
    },
    {
      "cell_type": "markdown",
      "metadata": {},
      "source": [
        "Finalmente, se crea una función para evaluar las métricas ROUGE."
      ]
    },
    {
      "cell_type": "code",
      "execution_count": 14,
      "metadata": {},
      "outputs": [],
      "source": [
        "# Crear una función para calcular las métricas ROUGE\n",
        "def evaluate_summary(df, reference_column, summary_column):\n",
        "    scorer = rouge_scorer.RougeScorer(['rouge1', 'rouge2', 'rougeL'], use_stemmer=True)\n",
        "    scores = {'rouge1': [], 'rouge2': [], 'rougeL': []}\n",
        "    \n",
        "    for ref, summary in zip(df[reference_column], df[summary_column]):\n",
        "        score = scorer.score(ref, summary)\n",
        "        scores['rouge1'].append(score['rouge1'].fmeasure)\n",
        "        scores['rouge2'].append(score['rouge2'].fmeasure)\n",
        "        scores['rougeL'].append(score['rougeL'].fmeasure)\n",
        "\n",
        "    # Calcular el promedio de las métricas\n",
        "    avg_scores = {metric: sum(values) / len(values) for metric, values in scores.items()}\n",
        "    return avg_scores"
      ]
    },
    {
      "cell_type": "code",
      "execution_count": 15,
      "metadata": {},
      "outputs": [
        {
          "name": "stdout",
          "output_type": "stream",
          "text": [
            "ROUGE scores: {'rouge1': 0.14980686588718545, 'rouge2': 0.13090613057213402, 'rougeL': 0.1384385150960561}\n"
          ]
        }
      ],
      "source": [
        "# Evaluar la calidad del resumen\n",
        "avg_scores = evaluate_summary(df, 'news', 'summary')\n",
        "print(\"ROUGE scores:\", avg_scores)"
      ]
    },
    {
      "cell_type": "markdown",
      "metadata": {},
      "source": [
        "Los valores de las métricas **ROUGE** obtenidos son:  \n",
        "\n",
        "- **ROUGE-1**: 0.1498  \n",
        "- **ROUGE-2**: 0.1309  \n",
        "- **ROUGE-L**: 0.1384  "
      ]
    },
    {
      "cell_type": "markdown",
      "metadata": {},
      "source": [
        "### Interpretación"
      ]
    },
    {
      "cell_type": "markdown",
      "metadata": {},
      "source": [
        "1. **ROUGE-1 (14.98%)**: Evalúa la coincidencia de palabras individuales entre las noticias originales y sus resúmenes. Un valor bajo sugiere que hay poca coincidencia de palabras clave entre ambos textos.  \n",
        "\n",
        "2. **ROUGE-2 (13.09%)**: Mide la coincidencia de pares de palabras consecutivas (*bigrams*). Un valor bajo indica que los resúmenes no están capturando bien frases clave de las noticias originales.  \n",
        "\n",
        "3. **ROUGE-L (13.84%)**: Evalúa la coincidencia en la secuencia más larga de palabras coincidentes. Un puntaje bajo indica que la estructura y coherencia del resumen respecto al texto original podrían mejorar.  "
      ]
    },
    {
      "cell_type": "markdown",
      "metadata": {},
      "source": [
        "### Conclusiones"
      ]
    },
    {
      "cell_type": "markdown",
      "metadata": {},
      "source": [
        "Los puntajes ROUGE obtenidos son relativamente bajos. Esto indica que los resúmenes generados no están reflejando fielmente el contenido de las noticias originales."
      ]
    },
    {
      "cell_type": "markdown",
      "metadata": {},
      "source": [
        "## Identificación de Temas en Noticias"
      ]
    },
    {
      "cell_type": "code",
      "execution_count": 12,
      "metadata": {},
      "outputs": [
        {
          "name": "stdout",
          "output_type": "stream",
          "text": [
            "Collecting es-core-news-sm==3.8.0\n",
            "  Downloading https://github.com/explosion/spacy-models/releases/download/es_core_news_sm-3.8.0/es_core_news_sm-3.8.0-py3-none-any.whl (12.9 MB)\n",
            "     ---------------------------------------- 0.0/12.9 MB ? eta -:--:--\n",
            "     ------------ --------------------------- 3.9/12.9 MB 33.4 MB/s eta 0:00:01\n",
            "     --------------------------------------- 12.9/12.9 MB 44.8 MB/s eta 0:00:00\n",
            "Installing collected packages: es-core-news-sm\n",
            "Successfully installed es-core-news-sm-3.8.0\n",
            "\u001b[38;5;2m✔ Download and installation successful\u001b[0m\n",
            "You can now load the package via spacy.load('es_core_news_sm')\n"
          ]
        }
      ],
      "source": [
        "!python -m spacy download es_core_news_sm"
      ]
    },
    {
      "cell_type": "markdown",
      "metadata": {},
      "source": [
        "Lo primero es importar los paquetes necesarios."
      ]
    },
    {
      "cell_type": "code",
      "execution_count": 13,
      "metadata": {},
      "outputs": [
        {
          "name": "stderr",
          "output_type": "stream",
          "text": [
            "[nltk_data] Downloading package punkt to\n",
            "[nltk_data]     C:\\Users\\alexg\\AppData\\Roaming\\nltk_data...\n",
            "[nltk_data]   Package punkt is already up-to-date!\n",
            "[nltk_data] Downloading package stopwords to\n",
            "[nltk_data]     C:\\Users\\alexg\\AppData\\Roaming\\nltk_data...\n",
            "[nltk_data]   Package stopwords is already up-to-date!\n",
            "[nltk_data] Downloading package wordnet to\n",
            "[nltk_data]     C:\\Users\\alexg\\AppData\\Roaming\\nltk_data...\n",
            "[nltk_data]   Package wordnet is already up-to-date!\n"
          ]
        }
      ],
      "source": [
        "import pandas as pd\n",
        "import numpy as np\n",
        "from nltk.tokenize import word_tokenize\n",
        "from nltk.corpus import stopwords\n",
        "from gensim import corpora, models\n",
        "from gensim.models import CoherenceModel\n",
        "import matplotlib.pyplot as plt\n",
        "import seaborn as sns\n",
        "from collections import Counter\n",
        "import spacy\n",
        "from sklearn.metrics import confusion_matrix, classification_report\n",
        "\n",
        "# Descargar recursos necesarios de NLTK\n",
        "import nltk\n",
        "nltk.download('punkt')\n",
        "nltk.download('stopwords')\n",
        "nltk.download('wordnet')\n",
        "\n",
        "# Cargar spaCy para español\n",
        "nlp = spacy.load('es_core_news_sm')"
      ]
    },
    {
      "cell_type": "markdown",
      "metadata": {},
      "source": [
        "Trabajaremos a partir del mismo conjunto de datos de noticias con la limpieza inicial."
      ]
    },
    {
      "cell_type": "markdown",
      "metadata": {},
      "source": [
        "### Preprocesamiento"
      ]
    },
    {
      "cell_type": "markdown",
      "metadata": {},
      "source": [
        "Comencemos definiendo un preprocesamiento que consistirá de:\n",
        "- Toenización: Separación del texto en unidades lingüísticas básicas (tokens) utilizando NLTK.\n",
        "- Eliminación de stopwords: Remoción de palabras frecuentes en español que no aportan significado semántico relevante.\n",
        "- Lematización con spaCy: Reducción de palabras a su forma base o lema, eligiendo este método sobre el stemming por su precisión lingüística.\n",
        "- Filtrado por longitud: Eliminación de palabras con menos de 3 caracteres para reducir ruido.\n",
        "- Filtrado por frecuencia: Implementación de un filtrado basado en percentiles (entre 5% y 95%) para eliminar términos demasiado raros o excesivamente comunes.\n",
        "\n",
        "Se optó por la lematización utilizando spaCy por su capacidad para producir formas base lingüísticamente correctas, preservando el significado semántico, especialmente importante para el español que tiene una morfología compleja.\n",
        "\n",
        "Por otro lado, la elección de palabras con más de 2 caracteres busca eliminar tokens sin valor semántico sustancial mientras se preservan palabras cortas pero significativas en español; mientras que el fltrado por frecuencia basado en percentiles garantiza la adaptabilidad a diferentes corpus, eliminando palabras extremadamente raras (posibles errores o términos muy específicos) y palabras demasiado comunes que no aportan a la diferenciación temática."
      ]
    },
    {
      "cell_type": "code",
      "execution_count": 14,
      "metadata": {},
      "outputs": [],
      "source": [
        "def preprocess_text(text):\n",
        "    # Tokenización\n",
        "    tokens = word_tokenize(text)\n",
        "    \n",
        "    # Eliminar stopwords\n",
        "    stop_words = set(stopwords.words('spanish'))\n",
        "    tokens = [token for token in tokens if token not in stop_words]\n",
        "    \n",
        "    # Lematización usando spaCy\n",
        "    doc = nlp(' '.join(tokens))\n",
        "    lemmas = [token.lemma_ for token in doc]\n",
        "    \n",
        "    # Filtrar palabras por longitud\n",
        "    lemmas = [lemma for lemma in lemmas if len(lemma) > 2]\n",
        "    \n",
        "    return lemmas\n",
        "\n",
        "def filter_by_frequency(texts, min_freq=5, max_freq=95):\n",
        "    # Contar frecuencias de palabras\n",
        "    word_counts = Counter([word for text in texts for word in text])\n",
        "    \n",
        "    # Definir umbrales basados en percentiles\n",
        "    freqs = list(word_counts.values())\n",
        "    min_freq = np.percentile(freqs, min_freq)\n",
        "    max_freq = np.percentile(freqs, max_freq)\n",
        "    \n",
        "    # Filtrar palabras por frecuencia\n",
        "    filtered_texts = []\n",
        "    for text in texts:\n",
        "        filtered = [word for word in text \n",
        "\t\t\t\t\tif min_freq <= word_counts[word] <= max_freq]\n",
        "        filtered_texts.append(filtered)\n",
        "    \n",
        "    return filtered_texts"
      ]
    },
    {
      "cell_type": "markdown",
      "metadata": {},
      "source": [
        "### Modelado con LDA"
      ]
    },
    {
      "cell_type": "markdown",
      "metadata": {},
      "source": [
        "Pasando a hora al modelado de temas con LDA, implementaremos lo siguiente:\n",
        "\n",
        "- Análisis de frecuencias de palabras: Visualización de la distribución de frecuencias para entender el vocabulario del corpus.\n",
        "- Búsqueda del número óptimo de temas: Evaluación iterativa de modelos LDA con diferentes números de temas (4-7), utilizando métricas de coherencia c_v y u_mass. Se definió este rango considerando el número original de categorías en el dataset (7) y buscando un balance entre especificidad y generalización.\n",
        "- Entrenamiento del modelo final: Implementación del modelo LDA con el número óptimo de temas determinado por la coherencia c_v.\n",
        "- Extracción de palabras clave: Identificación de los términos más representativos de cada tema descubierto.\n",
        "\n",
        "Además, configurar el modelo con 10 pases para asegurar la convergencia y se fijó una semilla aleatoria (42) para garantizar la reproducibilidad de los resultados."
      ]
    },
    {
      "cell_type": "code",
      "execution_count": 15,
      "metadata": {},
      "outputs": [],
      "source": [
        "def analyze_word_frequencies(texts):\n",
        "    # Contar todas las palabras\n",
        "    word_counts = Counter([word for text in texts for word in text])\n",
        "    \n",
        "    # Crear DataFrame con frecuencias\n",
        "    freq_df = pd.DataFrame.from_dict(word_counts, orient='index', columns=['frequency'])\n",
        "    freq_df.sort_values('frequency', ascending=False, inplace=True)\n",
        "    \n",
        "    # Visualizar distribución\n",
        "    plt.figure(figsize=(12, 6))\n",
        "    plt.plot(range(len(freq_df)), freq_df['frequency'])\n",
        "    plt.title('Distribución de Frecuencias de Palabras')\n",
        "    plt.xlabel('Rango de Palabra')\n",
        "    plt.ylabel('Frecuencia')\n",
        "    plt.yscale('log')\n",
        "    plt.show()\n",
        "    \n",
        "    return freq_df"
      ]
    },
    {
      "cell_type": "code",
      "execution_count": 16,
      "metadata": {},
      "outputs": [],
      "source": [
        "def find_optimal_topics(texts, start=2, limit=10, step=1):\n",
        "    coherence_scores = []\n",
        "    dictionary = corpora.Dictionary(texts)\n",
        "    corpus = [dictionary.doc2bow(text) for text in texts]\n",
        "\n",
        "    for num_topics in range(start, limit + 1, step):\n",
        "        lda_model = models.LdaModel(corpus=corpus, id2word=dictionary, num_topics=num_topics,\n",
        "                                    random_state=42, passes=10)\n",
        "\n",
        "        # Calcular diferentes métricas de coherencia\n",
        "        coherence_cv = CoherenceModel(model=lda_model, texts=texts, dictionary=dictionary, coherence='c_v').get_coherence()\n",
        "        coherence_umass = CoherenceModel(model=lda_model, texts=texts, dictionary=dictionary, coherence='u_mass').get_coherence()\n",
        "\n",
        "        coherence_scores.append((num_topics, coherence_cv, coherence_umass))\n",
        "        print(f'Num topics: {num_topics}, Coherence c_v: {coherence_cv}, Coherence u_mass: {coherence_umass}')\n",
        "\n",
        "    # Graficar coherencias\n",
        "    num_topics_list, cv_scores, umass_scores = zip(*coherence_scores)\n",
        "    \n",
        "    plt.figure(figsize=(10, 5))\n",
        "    plt.plot(num_topics_list, cv_scores, marker='o', label='Coherence c_v')\n",
        "    plt.plot(num_topics_list, umass_scores, marker='s', label='Coherence u_mass')\n",
        "    plt.xlabel('Número de temas')\n",
        "    plt.ylabel('Coherencia')\n",
        "    plt.legend()\n",
        "    plt.title('Coherencia vs Número de Temas')\n",
        "    plt.show()\n",
        "\n",
        "    return coherence_scores"
      ]
    },
    {
      "cell_type": "code",
      "execution_count": 17,
      "metadata": {},
      "outputs": [],
      "source": [
        "def train_lda_model(texts, num_topics):\n",
        "    # Crear diccionario y corpus\n",
        "    dictionary = corpora.Dictionary(texts)\n",
        "    corpus = [dictionary.doc2bow(text) for text in texts]\n",
        "    \n",
        "    # Entrenar modelo LDA\n",
        "    lda_model = models.LdaModel(\n",
        "        corpus=corpus,\n",
        "        id2word=dictionary,\n",
        "        num_topics=num_topics,\n",
        "        random_state=42,\n",
        "        passes=10\n",
        "    )\n",
        "    \n",
        "    # Calcular coherencia\n",
        "    coherence_model = CoherenceModel(\n",
        "        model=lda_model, \n",
        "        texts=texts,\n",
        "        dictionary=dictionary,\n",
        "        coherence='c_v'\n",
        "    )\n",
        "    coherence_score = coherence_model.get_coherence()\n",
        "    \n",
        "    return lda_model, dictionary, corpus, coherence_score"
      ]
    },
    {
      "cell_type": "markdown",
      "metadata": {},
      "source": [
        "### Asignación y Visualización de Temas"
      ]
    },
    {
      "cell_type": "markdown",
      "metadata": {},
      "source": [
        "Pasando ahora a la asignación y visualización de los temas, además de una evaluación, implementaremos tres funciones:\n",
        "- Visualización de distribución de temas: Representación mediante heatmaps de la distribución de temas por documento.\n",
        "- Estadísticas de asignación: Análisis de la cantidad de documentos asignados a cada tema.\n",
        "- Evaluación de correspondencia con categorías originales: Análisis de la relación entre los temas descubiertos automáticamente y las categorías predefinidas mediante matrices de confusión.\n",
        "\n",
        "Para cada documento se asigna el tema con mayor probabilidad, simplificando la interpretación de resultados."
      ]
    },
    {
      "cell_type": "code",
      "execution_count": 18,
      "metadata": {},
      "outputs": [],
      "source": [
        "def assign_topics(lda_model, corpus):\n",
        "    # Asignar temas a cada documento\n",
        "    doc_topics = []\n",
        "    for doc in corpus:\n",
        "        topics = lda_model.get_document_topics(doc)\n",
        "        # Obtener el tema más probable\n",
        "        main_topic = max(topics, key=lambda x: x[1])[0]\n",
        "        doc_topics.append(main_topic)\n",
        "    \n",
        "    return doc_topics\n",
        "\n",
        "def print_topics(lda_model, num_words=10):\n",
        "    for idx, topic in lda_model.print_topics(-1, num_words):\n",
        "        print(f'Tema {idx}:')\n",
        "        # Extraer y mostrar palabras clave\n",
        "        words = [(word.split('*')[1].strip().replace('\"','')) \n",
        "                for word in topic.split(' + ')]\n",
        "        print(', '.join(words))\n",
        "        print()"
      ]
    },
    {
      "cell_type": "code",
      "execution_count": 19,
      "metadata": {},
      "outputs": [],
      "source": [
        "def visualize_topic_distribution(lda_model, corpus, df):\n",
        "    # Obtener distribución de temas para cada documento\n",
        "    doc_topics = []\n",
        "    for doc in corpus:\n",
        "        topic_dist = lda_model.get_document_topics(doc)\n",
        "        doc_topics.append([dist[1] for dist in sorted(topic_dist)])\n",
        "    \n",
        "    # Crear matriz de distribución\n",
        "    topic_matrix = pd.DataFrame(doc_topics)\n",
        "    \n",
        "    # Visualizar heatmap\n",
        "    plt.figure(figsize=(12, 8))\n",
        "    sns.heatmap(topic_matrix, cmap='YlOrRd')\n",
        "    plt.title('Distribución de Temas por Documento')\n",
        "    plt.xlabel('Tema')\n",
        "    plt.ylabel('Documento')\n",
        "    plt.show()\n",
        "    \n",
        "    # Mostrar estadísticas\n",
        "    print(\"\\nEstadísticas de asignación de temas:\")\n",
        "    topic_counts = df['predicted_topic'].value_counts()\n",
        "    print(topic_counts)"
      ]
    },
    {
      "cell_type": "code",
      "execution_count": 20,
      "metadata": {},
      "outputs": [],
      "source": [
        "def evaluate_topics(df, doc_topics):\n",
        "    if 'labels' in df.columns:\n",
        "        # Crear matriz de confusión\n",
        "        cm = confusion_matrix(df['labels'], doc_topics)\n",
        "        \n",
        "        # Visualizar matriz de confusión\n",
        "        plt.figure(figsize=(10, 8))\n",
        "        sns.heatmap(cm, annot=True, fmt='d', cmap='Blues')\n",
        "        plt.title('Matriz de Confusión')\n",
        "        plt.ylabel('Etiquetas Reales')\n",
        "        plt.xlabel('Temas Predichos')\n",
        "        plt.show()\n",
        "        \n",
        "        # Mostrar métricas de clasificación\n",
        "        print(\"\\nInforme de Clasificación:\")\n",
        "        print(classification_report(df['labels'], doc_topics))"
      ]
    },
    {
      "cell_type": "markdown",
      "metadata": {},
      "source": [
        "### Categorización Automática"
      ]
    },
    {
      "cell_type": "markdown",
      "metadata": {},
      "source": [
        "Por último, se crea una función que nos permita hacer una clasificación automática."
      ]
    },
    {
      "cell_type": "code",
      "execution_count": 21,
      "metadata": {},
      "outputs": [],
      "source": [
        "def classify_new_text(text, lda_model, dictionary):\n",
        "    # Preprocesar el nuevo texto\n",
        "    processed_text = preprocess_text(text)\n",
        "    \n",
        "    # Convertir a bow\n",
        "    bow = dictionary.doc2bow(processed_text)\n",
        "    \n",
        "    # Obtener distribución de temas\n",
        "    topic_dist = lda_model.get_document_topics(bow)\n",
        "    \n",
        "    # Obtener tema más probable\n",
        "    main_topic = max(topic_dist, key=lambda x: x[1])[0]\n",
        "    \n",
        "    return main_topic"
      ]
    },
    {
      "cell_type": "code",
      "execution_count": 22,
      "metadata": {},
      "outputs": [
        {
          "name": "stdout",
          "output_type": "stream",
          "text": [
            "Número de valores nulos en 'news': 0\n",
            "\n",
            "Análisis de frecuencias de palabras:\n"
          ]
        },
        {
          "data": {
            "image/png": "[encoded data removed]",
            "text/plain": [
              "<Figure size 1200x600 with 1 Axes>"
            ]
          },
          "metadata": {},
          "output_type": "display_data"
        },
        {
          "name": "stdout",
          "output_type": "stream",
          "text": [
            "\n",
            "Palabras más frecuentes:\n",
            "           frequency\n",
            "poder           2531\n",
            "bbva            2527\n",
            "año             2240\n",
            "banco           1561\n",
            "país            1524\n",
            "empresa         1410\n",
            "inflación       1404\n",
            "nuevo           1292\n",
            "hacer           1257\n",
            "precio          1247\n",
            "Num topics: 4, Coherence c_v: 0.5295385138525236, Coherence u_mass: -13.92841453626469\n",
            "Num topics: 5, Coherence c_v: 0.5209584086345689, Coherence u_mass: -13.726706504731817\n",
            "Num topics: 6, Coherence c_v: 0.5275677379714638, Coherence u_mass: -14.062269581359383\n",
            "Num topics: 7, Coherence c_v: 0.5615521284077696, Coherence u_mass: -14.544053043854708\n"
          ]
        },
        {
          "data": {
            "image/png": "[encoded data removed]",
            "text/plain": [
              "<Figure size 1000x500 with 1 Axes>"
            ]
          },
          "metadata": {},
          "output_type": "display_data"
        },
        {
          "name": "stdout",
          "output_type": "stream",
          "text": [
            "\n",
            "Número óptimo de temas: 7\n",
            "\n",
            "Palabras clave por tema:\n",
            "Tema 0:\n",
            "next, vasco, vidrio, diferencial, tonelada, bilbao, cobre, rappi, voto, escuela\n",
            "\n",
            "Tema 1:\n",
            "aéreo, latam, taxi, hidrógeno, automóvil, rodríguez, sostener, ruso, junta, airlín\n",
            "\n",
            "Tema 2:\n",
            "bebido, división, scotiabank, colpatrio, rubro, allianz, alcohólico, reporte, carne, papa\n",
            "\n",
            "Tema 3:\n",
            "scaleups, smith, privacidad, sintético, leadwind, creg, learning, cannabis, index, machine\n",
            "\n",
            "Tema 4:\n",
            "tensión, debt, contaminante, docente, dinámica, filtro, ronda, potable, cine, concentración\n",
            "\n",
            "Tema 5:\n",
            "nuclear, singapur, trámite, tributario, remesa, hidráulico, eólico, banxico, vegetal, carbón\n",
            "\n",
            "Tema 6:\n",
            "cuántico, garanti, temperatura, reacondicionado, híbrido, minero, lira, computación, ciberseguridad, causa\n",
            "\n",
            "\n",
            "Distribución de temas:\n"
          ]
        },
        {
          "data": {
            "image/png": "[encoded data removed]",
            "text/plain": [
              "<Figure size 1200x800 with 2 Axes>"
            ]
          },
          "metadata": {},
          "output_type": "display_data"
        },
        {
          "name": "stdout",
          "output_type": "stream",
          "text": [
            "\n",
            "Estadísticas de asignación de temas:\n",
            "predicted_topic\n",
            "2    222\n",
            "1    175\n",
            "0    174\n",
            "6    171\n",
            "3    168\n",
            "4    159\n",
            "5    148\n",
            "Name: count, dtype: int64\n",
            "\n",
            "Evaluación del modelo:\n"
          ]
        },
        {
          "data": {
            "image/png": "[encoded data removed]",
            "text/plain": [
              "<Figure size 1000x800 with 2 Axes>"
            ]
          },
          "metadata": {},
          "output_type": "display_data"
        },
        {
          "name": "stdout",
          "output_type": "stream",
          "text": [
            "\n",
            "Informe de Clasificación:\n",
            "              precision    recall  f1-score   support\n",
            "\n",
            "           0       0.09      0.12      0.11       130\n",
            "           1       0.11      0.13      0.12       142\n",
            "           2       0.13      0.11      0.12       247\n",
            "           3       0.21      0.11      0.14       340\n",
            "           4       0.13      0.11      0.12       195\n",
            "           5       0.15      0.16      0.15       137\n",
            "           6       0.02      0.15      0.04        26\n",
            "\n",
            "    accuracy                           0.12      1217\n",
            "   macro avg       0.12      0.13      0.11      1217\n",
            "weighted avg       0.15      0.12      0.13      1217\n",
            "\n"
          ]
        }
      ],
      "source": [
        "# Verificar valores nulos\n",
        "print(\"Número de valores nulos en 'news':\", df['news'].isnull().sum())\n",
        "df = df.dropna(subset=['news'])\n",
        "\n",
        "# Preprocesar textos\n",
        "processed_texts = [preprocess_text(text) for text in df['news']]\n",
        "\n",
        "# Analizar frecuencias de palabras\n",
        "print(\"\\nAnálisis de frecuencias de palabras:\")\n",
        "freq_df = analyze_word_frequencies(processed_texts)\n",
        "print(\"\\nPalabras más frecuentes:\")\n",
        "print(freq_df.head(10))\n",
        "\n",
        "# Filtrar textos\n",
        "filtered_texts = filter_by_frequency(processed_texts)\n",
        "\n",
        "# Encontrar número óptimo de temas\n",
        "coherence_scores = find_optimal_topics(filtered_texts, start=4,limit=7, step=1)\n",
        "\n",
        "# Entrenar modelo final\n",
        "optimal_topics = coherence_scores.index(max(coherence_scores)) + 4\n",
        "print(f\"\\nNúmero óptimo de temas: {optimal_topics}\")\n",
        "lda_model, dictionary, corpus, coherence = train_lda_model(filtered_texts, optimal_topics)\n",
        "\n",
        "# Asignar y visualizar temas\n",
        "doc_topics = assign_topics(lda_model, corpus)\n",
        "df['predicted_topic'] = doc_topics\n",
        "\n",
        "print(\"\\nPalabras clave por tema:\")\n",
        "print_topics(lda_model)\n",
        "\n",
        "print(\"\\nDistribución de temas:\")\n",
        "visualize_topic_distribution(lda_model, corpus, df)\n",
        "\n",
        "# Evaluar contra etiquetas reales\n",
        "print(\"\\nEvaluación del modelo:\")\n",
        "evaluate_topics(df, doc_topics)"
      ]
    },
    {
      "cell_type": "code",
      "execution_count": 25,
      "metadata": {},
      "outputs": [
        {
          "data": {
            "image/png": "[encoded data removed]",
            "text/plain": [
              "<Figure size 1200x600 with 2 Axes>"
            ]
          },
          "metadata": {},
          "output_type": "display_data"
        }
      ],
      "source": [
        "# Crear una gráfica comparando etiquetas reales vs predichas\n",
        "plt.figure(figsize=(12,6))\n",
        "\n",
        "# Crear dos subplots separados\n",
        "plt.subplot(1, 2, 1)\n",
        "real_counts = df['labels'].value_counts().sort_index()\n",
        "plt.bar(range(len(real_counts)), real_counts.values, color='skyblue')\n",
        "plt.title('Distribución de Etiquetas Reales')\n",
        "plt.xlabel('Categoría')\n",
        "plt.ylabel('Número de documentos')\n",
        "plt.xticks(range(len(real_counts)))\n",
        "plt.ylim(0, max(real_counts.values) + 10)\n",
        "\n",
        "plt.subplot(1, 2, 2)\n",
        "pred_counts = df['predicted_topic'].value_counts().sort_index()\n",
        "plt.bar(range(len(pred_counts)), pred_counts.values, color='lightgreen')\n",
        "plt.title('Distribución de Temas Predichos')\n",
        "plt.xlabel('Tema')\n",
        "plt.ylabel('Número de documentos')\n",
        "plt.xticks(range(len(pred_counts)))\n",
        "plt.ylim(0, max(real_counts.values) + 10)\n",
        "\n",
        "\n",
        "plt.tight_layout()\n",
        "plt.show()"
      ]
    },
    {
      "cell_type": "code",
      "execution_count": 28,
      "metadata": {},
      "outputs": [],
      "source": [
        "import os\n",
        "os.makedirs('models/lda/', exist_ok=True)"
      ]
    },
    {
      "cell_type": "code",
      "execution_count": null,
      "metadata": {},
      "outputs": [],
      "source": [
        "# Guardar el modelo LDA y el diccionario\n",
        "lda_model.save('models/lda/lda_model')\n",
        "dictionary.save('models/lda/dictionary')"
      ]
    },
    {
      "cell_type": "markdown",
      "metadata": {},
      "source": [
        "### Interpretación"
      ]
    },
    {
      "cell_type": "markdown",
      "metadata": {},
      "source": [
        "**Coherencia del Modelo:**\n",
        "El análisis de coherencia mostró que el modelo con 7 temas obtuvo el mejor resultado con una coherencia c_v de 0.562, superior a las configuraciones con 4, 5 y 6 temas. Curiosamente, este número coincide con la cantidad de categorías originales del dataset, lo que sugiere que el modelo LDA logró capturar una estructura temática similar a la clasificación humana."
      ]
    },
    {
      "cell_type": "markdown",
      "metadata": {},
      "source": [
        "**Interpretación de Temas:**\n",
        "Los temas descubiertos muestran agrupaciones semánticas interesantes:\n",
        "- Tema 0: Parece relacionado con industria y economía regional (términos como \"vasco\", \"vidrio\", \"tonelada\", \"bilbao\").\n",
        "- Tema 1: Orientado al transporte y movilidad (\"aéreo\", \"latam\", \"taxi\", \"hidrógeno\", \"automóvil\").\n",
        "- Tema 2: Relacionado con banca y finanzas (\"scotiabank\", \"colpatrio\", \"allianz\").\n",
        "- Tema 3: Tecnología y startups (\"scaleups\", \"leadwind\", \"learning\", \"machine\").\n",
        "- Tema 4: Temas sociales y medioambientales (\"tensión\", \"contaminante\", \"docente\").\n",
        "- Tema 5: Energía y recursos (\"nuclear\", \"hidráulico\", \"eólico\", \"carbón\").\n",
        "- Tema 6: Tecnología avanzada y seguridad (\"cuántico\", \"computación\", \"ciberseguridad\").\n",
        "\n",
        "Esta distribución muestra cierta correspondencia con las categorías originales, donde los temas descubiertos pueden relacionarse con Macroeconomía (temas 0 y 2), Innovación (temas 3 y 6), Sostenibilidad (temas 4 y 5) y Alianzas (tema 1)."
      ]
    },
    {
      "cell_type": "markdown",
      "metadata": {},
      "source": [
        "**Distribución de Documentos por Tema:**\n",
        "La asignación de documentos a temas resultó relativamente equilibrada:\n",
        "- Tema 2: 222 documentos\n",
        "- Tema 1: 175 documentos\n",
        "- Tema 0: 174 documentos\n",
        "- Tema 6: 171 documentos\n",
        "- Tema 3: 168 documentos\n",
        "- Tema 4: 159 documentos\n",
        "- Tema 5: 148 documentos\n",
        "\n",
        "Esta distribución balanceada sugiere que el modelo LDA ha encontrado una estructura temática significativa y bien diferenciada en el corpus."
      ]
    },
    {
      "cell_type": "markdown",
      "metadata": {},
      "source": [
        "### Conclusiones"
      ]
    },
    {
      "cell_type": "markdown",
      "metadata": {},
      "source": [
        "- Efectividad del modelado LDA: El algoritmo LDA demuestra ser efectivo para descubrir la estructura temática subyacente en noticias en español, identificando agrupaciones coherentes y semánticamente interpretables.\n",
        "- Correspondencia con categorías predefinidas: Existe una correlación parcial entre los temas descubiertos automáticamente y las categorías originales, lo que valida tanto la aproximación no supervisada como la clasificación manual inicial.\n",
        "- Importancia del preprocesamiento: Las decisiones de preprocesamiento, especialmente la lematización y el filtrado por frecuencia, resultan cruciales para la calidad final del modelo de temas.\n",
        "- Valor de las métricas de coherencia: La coherencia c_v se confirma como un indicador útil para determinar el número óptimo de temas, proporcionando una guía objetiva para esta decisión crítica."
      ]
    },
    {
      "cell_type": "markdown",
      "metadata": {},
      "source": [
        "# Interfaz Interactiva"
      ]
    },
    {
      "cell_type": "code",
      "execution_count": 1,
      "metadata": {},
      "outputs": [
        {
          "name": "stderr",
          "output_type": "stream",
          "text": [
            "d:\\PREGRADO INGENIERÍA DE SISTEMAS E INFORMÁTICA\\2024-2. PLN\\trabajo 2\\.venv\\lib\\site-packages\\tqdm\\auto.py:21: TqdmWarning: IProgress not found. Please update jupyter and ipywidgets. See https://ipywidgets.readthedocs.io/en/stable/user_install.html\n",
            "  from .autonotebook import tqdm as notebook_tqdm\n",
            "Config of the encoder: <class 'transformers.models.bert.modeling_bert.BertModel'> is overwritten by shared encoder config: BertConfig {\n",
            "  \"_name_or_path\": \"dccuchile/bert-base-spanish-wwm-cased\",\n",
            "  \"architectures\": [\n",
            "    \"BertForMaskedLM\"\n",
            "  ],\n",
            "  \"attention_probs_dropout_prob\": 0.1,\n",
            "  \"classifier_dropout\": null,\n",
            "  \"gradient_checkpointing\": false,\n",
            "  \"hidden_act\": \"gelu\",\n",
            "  \"hidden_dropout_prob\": 0.1,\n",
            "  \"hidden_size\": 768,\n",
            "  \"initializer_range\": 0.02,\n",
            "  \"intermediate_size\": 3072,\n",
            "  \"layer_norm_eps\": 1e-12,\n",
            "  \"max_position_embeddings\": 512,\n",
            "  \"model_type\": \"bert\",\n",
            "  \"num_attention_heads\": 12,\n",
            "  \"num_hidden_layers\": 12,\n",
            "  \"output_past\": true,\n",
            "  \"pad_token_id\": 1,\n",
            "  \"position_embedding_type\": \"absolute\",\n",
            "  \"torch_dtype\": \"float32\",\n",
            "  \"transformers_version\": \"4.49.0\",\n",
            "  \"type_vocab_size\": 2,\n",
            "  \"use_cache\": true,\n",
            "  \"vocab_size\": 31002\n",
            "}\n",
            "\n",
            "Config of the decoder: <class 'transformers.models.bert.modeling_bert.BertLMHeadModel'> is overwritten by shared decoder config: BertConfig {\n",
            "  \"_name_or_path\": \"dccuchile/bert-base-spanish-wwm-cased\",\n",
            "  \"add_cross_attention\": true,\n",
            "  \"architectures\": [\n",
            "    \"BertForMaskedLM\"\n",
            "  ],\n",
            "  \"attention_probs_dropout_prob\": 0.1,\n",
            "  \"classifier_dropout\": null,\n",
            "  \"gradient_checkpointing\": false,\n",
            "  \"hidden_act\": \"gelu\",\n",
            "  \"hidden_dropout_prob\": 0.1,\n",
            "  \"hidden_size\": 768,\n",
            "  \"initializer_range\": 0.02,\n",
            "  \"intermediate_size\": 3072,\n",
            "  \"is_decoder\": true,\n",
            "  \"layer_norm_eps\": 1e-12,\n",
            "  \"max_position_embeddings\": 512,\n",
            "  \"model_type\": \"bert\",\n",
            "  \"num_attention_heads\": 12,\n",
            "  \"num_hidden_layers\": 12,\n",
            "  \"output_past\": true,\n",
            "  \"pad_token_id\": 1,\n",
            "  \"position_embedding_type\": \"absolute\",\n",
            "  \"torch_dtype\": \"float32\",\n",
            "  \"transformers_version\": \"4.49.0\",\n",
            "  \"type_vocab_size\": 2,\n",
            "  \"use_cache\": true,\n",
            "  \"vocab_size\": 31002\n",
            "}\n",
            "\n",
            "The following encoder weights were not tied to the decoder ['bert/pooler']\n",
            "The following encoder weights were not tied to the decoder ['bert/pooler']\n",
            "The following encoder weights were not tied to the decoder ['bert/pooler']\n",
            "The following encoder weights were not tied to the decoder ['bert/pooler']\n",
            "Device set to use cuda:0\n"
          ]
        },
        {
          "name": "stdout",
          "output_type": "stream",
          "text": [
            "* Running on local URL:  http://127.0.0.1:7860\n",
            "\n",
            "To create a public link, set `share=True` in `launch()`.\n"
          ]
        },
        {
          "data": {
            "text/html": [
              "<div><iframe src=\"http://127.0.0.1:7860/\" width=\"100%\" height=\"500\" allow=\"autoplay; camera; microphone; clipboard-read; clipboard-write;\" frameborder=\"0\" allowfullscreen></iframe></div>"
            ],
            "text/plain": [
              "<IPython.core.display.HTML object>"
            ]
          },
          "metadata": {},
          "output_type": "display_data"
        },
        {
          "data": {
            "text/plain": []
          },
          "execution_count": 1,
          "metadata": {},
          "output_type": "execute_result"
        },
        {
          "name": "stderr",
          "output_type": "stream",
          "text": [
            "Token indices sequence length is longer than the specified maximum sequence length for this model (552 > 512). Running this sequence through the model will result in indexing errors\n"
          ]
        }
      ],
      "source": [
        "import gradio as gr\n",
        "import pandas as pd\n",
        "import json\n",
        "import torch\n",
        "import chardet\n",
        "\n",
        "# Módulos para resumen abstractivo\n",
        "from transformers import BertForSequenceClassification, BertTokenizer, AutoTokenizer, pipeline\n",
        "\n",
        "# Módulos para identificación de temas\n",
        "import spacy\n",
        "from nltk.tokenize import word_tokenize\n",
        "from nltk.corpus import stopwords\n",
        "from collections import Counter\n",
        "import numpy as np\n",
        "from gensim import corpora, models\n",
        "from gensim.models import CoherenceModel\n",
        "\n",
        "# Cargar modelo spaCy para lematización en español\n",
        "nlp = spacy.load('es_core_news_sm')\n",
        "\n",
        "######################################\n",
        "### MODELO DE CATEGORIZACIÓN\n",
        "######################################\n",
        "# 1. Cargar el mapeo de etiquetas\n",
        "with open('models/cat/label_mapping.json', 'r', encoding='utf-8') as f:\n",
        "    label2id = json.load(f)\n",
        "    id2label = {v: k for k, v in label2id.items()}\n",
        "\n",
        "# 2. Cargar el modelo y tokenizador de categorización\n",
        "cat_model = BertForSequenceClassification.from_pretrained('models/cat/model', num_labels=len(label2id))\n",
        "cat_tokenizer = BertTokenizer.from_pretrained('models/cat/tokenizer')\n",
        "\n",
        "# 3. Configurar dispositivo y modo evaluación\n",
        "device = torch.device(\"cuda\" if torch.cuda.is_available() else \"cpu\")\n",
        "cat_model = cat_model.to(device)\n",
        "cat_model.eval()\n",
        "\n",
        "def predict_news(text):\n",
        "    encoded = cat_tokenizer.encode_plus(\n",
        "        text,\n",
        "        add_special_tokens=True,\n",
        "        max_length=128,\n",
        "        padding='max_length',\n",
        "        truncation=True,\n",
        "        return_attention_mask=True,\n",
        "        return_tensors='pt'\n",
        "    )\n",
        "    input_ids = encoded['input_ids'].to(device)\n",
        "    attention_mask = encoded['attention_mask'].to(device)\n",
        "    with torch.no_grad():\n",
        "        outputs = cat_model(input_ids=input_ids, attention_mask=attention_mask)\n",
        "        prediction = torch.argmax(outputs.logits, dim=1)\n",
        "    return id2label[prediction.item()]\n",
        "\n",
        "######################################\n",
        "### MODELO DE RESUMEN ABSTRACTIVO\n",
        "######################################\n",
        "# Cargar tokenizer y pipeline para resumen en español\n",
        "summarizer_tokenizer = AutoTokenizer.from_pretrained(\"mrm8488/bert2bert_shared-spanish-finetuned-summarization\")\n",
        "summarizer = pipeline(\"summarization\",\n",
        "                        model=\"mrm8488/bert2bert_shared-spanish-finetuned-summarization\",\n",
        "                        tokenizer=summarizer_tokenizer)\n",
        "\n",
        "def summarize_text(text):\n",
        "    summary = summarizer(text, max_length=130, min_length=30, do_sample=False)\n",
        "    return summary[0]['summary_text']\n",
        "\n",
        "def truncate_text(text, tokenizer, max_length):\n",
        "    tokens = tokenizer.encode(text, add_special_tokens=False)\n",
        "    if len(tokens) > max_length:\n",
        "        tokens = tokens[:max_length]\n",
        "    return tokenizer.decode(tokens, clean_up_tokenization_spaces=True)\n",
        "\n",
        "######################################\n",
        "### IDENTIFICACIÓN DE TEMAS CON LDA\n",
        "######################################\n",
        "def preprocess_text(text):\n",
        "    # Tokenización\n",
        "    tokens = word_tokenize(text)\n",
        "    # Convertir a minúsculas y eliminar stopwords\n",
        "    stop_words = set(stopwords.words('spanish'))\n",
        "    tokens = [token for token in tokens if token.lower() not in stop_words]\n",
        "    # Lematización con spaCy\n",
        "    doc = nlp(' '.join(tokens))\n",
        "    lemmas = [token.lemma_ for token in doc]\n",
        "    # Filtrar palabras cortas\n",
        "    lemmas = [lemma for lemma in lemmas if len(lemma) > 2]\n",
        "    return lemmas\n",
        "\n",
        "# Cargar el modelo LDA y el diccionario previamente entrenados\n",
        "lda_model = models.LdaModel.load('models/lda/lda_model')\n",
        "dictionary = corpora.Dictionary.load('models/lda/dictionary')\n",
        "\n",
        "def identificar_temas(df):\n",
        "    if \"Contenido\" not in df.columns:\n",
        "        return \"La columna 'Contenido' no se encuentra en el archivo.\"\n",
        "    # Preprocesar cada noticia\n",
        "    df[\"processed\"] = df[\"Contenido\"].apply(preprocess_text)\n",
        "    # Convertir cada documento a BOW usando el diccionario cargado\n",
        "    df[\"bow\"] = df[\"processed\"].apply(lambda tokens: dictionary.doc2bow(tokens))\n",
        "    # Asignar el tema más probable a cada noticia\n",
        "    def get_main_topic(bow):\n",
        "        topics = lda_model.get_document_topics(bow)\n",
        "        if topics:\n",
        "            return max(topics, key=lambda x: x[1])[0]\n",
        "        else:\n",
        "            return None\n",
        "    df[\"predicted_topic\"] = df[\"bow\"].apply(get_main_topic)\n",
        "    \n",
        "    # Crear un diccionario que mapea el número del tema a una descripción con sus palabras clave\n",
        "    topics_mapping = {}\n",
        "    topics = lda_model.print_topics(num_words=10)\n",
        "    for idx, topic in topics:\n",
        "        words = [word.split('*')[1].strip().replace('\"','') for word in topic.split(' + ')]\n",
        "        topics_mapping[idx] = ', '.join(words)\n",
        "    \n",
        "    # Agregar columna con la descripción del tema\n",
        "    df[\"Tema_descripcion\"] = df[\"predicted_topic\"].apply(lambda x: topics_mapping.get(x, \"N/A\"))\n",
        "    return df[['Contenido', 'predicted_topic', 'Tema_descripcion']].rename(columns={'predicted_topic': 'Tema', 'Tema_descripcion': 'Descripción'})\n",
        "\n",
        "def mostrar_temas_corpus():\n",
        "    \"\"\"\n",
        "    Retorna un DataFrame con cada tema y sus palabras clave.\n",
        "    \"\"\"\n",
        "    topics = lda_model.print_topics(num_words=10)\n",
        "    data = []\n",
        "    for idx, topic in topics:\n",
        "        words = [word.split('*')[1].strip().replace('\"','') for word in topic.split(' + ')]\n",
        "        data.append({\"Tema\": f\"Tema {idx}\", \"Palabras Clave\": \", \".join(words)})\n",
        "    df_topics = pd.DataFrame(data)\n",
        "    return df_topics\n",
        "\n",
        "######################################\n",
        "### FUNCIONES DE LECTURA Y PROCESAMIENTO\n",
        "######################################\n",
        "def cargar_noticias(archivo):\n",
        "    \"\"\"\n",
        "    Lee archivos CSV o TXT sin encabezado.\n",
        "    Se detecta la codificación para evitar errores de decodificación.\n",
        "    Cada línea se considera el contenido de una noticia.\n",
        "    \"\"\"\n",
        "    try:\n",
        "        with open(archivo.name, 'rb') as f:\n",
        "            rawdata = f.read()\n",
        "        result = chardet.detect(rawdata)\n",
        "        encoding = result['encoding']\n",
        "        df = pd.read_csv(archivo.name, header=None, encoding=encoding)\n",
        "    except Exception as e:\n",
        "        return f\"Error al leer el archivo: {str(e)}\"\n",
        "    # Si hay más de una columna, concatenarlas; de lo contrario, asignar el nombre 'Contenido'\n",
        "    if df.shape[1] > 1:\n",
        "        df[\"Contenido\"] = df.astype(str).agg(\" \".join, axis=1)\n",
        "    else:\n",
        "        df.columns = [\"Contenido\"]\n",
        "    return df\n",
        "\n",
        "def obtener_categorias(df):\n",
        "    if \"Contenido\" not in df.columns:\n",
        "        return \"La columna 'Contenido' no se encuentra en el archivo.\"\n",
        "    df[\"Categoría\"] = df[\"Contenido\"].apply(lambda x: predict_news(str(x)))\n",
        "    return df\n",
        "\n",
        "def generar_resumen(df):\n",
        "    if \"Contenido\" not in df.columns:\n",
        "        return \"La columna 'Contenido' no se encuentra en el archivo.\"\n",
        "    # Truncar el contenido para no exceder el límite del modelo\n",
        "    df[\"news_truncated\"] = df[\"Contenido\"].apply(lambda x: truncate_text(x, summarizer_tokenizer, 510))\n",
        "    df[\"Resumen\"] = df[\"news_truncated\"].apply(summarize_text)\n",
        "    return df[[\"Contenido\", \"Resumen\"]]\n",
        "\n",
        "######################################\n",
        "### INTERFAZ CON GRADIO\n",
        "######################################\n",
        "with gr.Blocks() as interfaz:\n",
        "    gr.Markdown(\"# 📰 Análisis de Noticias con IA\")\n",
        "    \n",
        "    with gr.Row():\n",
        "        archivo_texto = gr.File(label=\"Cargar archivo CSV/TXT sin encabezados (cada línea es una noticia)\")\n",
        "        boton_cargar = gr.Button(\"Cargar Noticias\")\n",
        "    \n",
        "    tabla = gr.Dataframe(label=\"Noticias cargadas\", wrap=True)\n",
        "    \n",
        "    with gr.Row():\n",
        "        boton_categoria = gr.Button(\"Obtener Categorías\")\n",
        "        boton_resumen = gr.Button(\"Generar Resúmenes\")\n",
        "        boton_temas = gr.Button(\"Identificar Temas\")\n",
        "        boton_temas_corpus = gr.Button(\"Mostrar Temas del Corpus\")\n",
        "    \n",
        "    salida_categoria = gr.Dataframe(label=\"Noticias con Categorías\", wrap=True)\n",
        "    salida_resumen = gr.Dataframe(label=\"Noticias con Resúmenes\", wrap=True)\n",
        "    salida_temas = gr.Dataframe(label=\"Noticias con Temas Identificados\", wrap=True)\n",
        "    salida_temas_corpus = gr.Dataframe(label=\"Temas del Corpus\")  # Ahora mostramos un DataFrame\n",
        "    \n",
        "    # Conexión de botones con funciones correspondientes\n",
        "    boton_cargar.click(fn=cargar_noticias, inputs=archivo_texto, outputs=tabla)\n",
        "    boton_categoria.click(fn=obtener_categorias, inputs=tabla, outputs=salida_categoria)\n",
        "    boton_resumen.click(fn=generar_resumen, inputs=tabla, outputs=salida_resumen)\n",
        "    boton_temas.click(fn=identificar_temas, inputs=tabla, outputs=salida_temas)\n",
        "    boton_temas_corpus.click(fn=mostrar_temas_corpus, outputs=salida_temas_corpus)\n",
        "\n",
        "interfaz.launch()\n"
      ]
    },
    {
      "cell_type": "code",
      "execution_count": null,
      "metadata": {},
      "outputs": [],
      "source": []
    }
  ],
  "metadata": {
    "accelerator": "GPU",
    "colab": {
      "gpuType": "T4",
      "provenance": []
    },
    "kernelspec": {
      "display_name": ".venv",
      "language": "python",
      "name": "python3"
    },
    "language_info": {
      "codemirror_mode": {
        "name": "ipython",
        "version": 3
      },
      "file_extension": ".py",
      "mimetype": "text/x-python",
      "name": "python",
      "nbconvert_exporter": "python",
      "pygments_lexer": "ipython3",
      "version": "3.10.11"
    },
    "widgets": {
      "application/vnd.jupyter.widget-state+json": {
        "011aeea96d394853a5c38e90ce762ac0": {
          "model_module": "@jupyter-widgets/base",
          "model_module_version": "1.2.0",
          "model_name": "LayoutModel",
          "state": {
            "_model_module": "@jupyter-widgets/base",
            "_model_module_version": "1.2.0",
            "_model_name": "LayoutModel",
            "_view_count": null,
            "_view_module": "@jupyter-widgets/base",
            "_view_module_version": "1.2.0",
            "_view_name": "LayoutView",
            "align_content": null,
            "align_items": null,
            "align_self": null,
            "border": null,
            "bottom": null,
            "display": null,
            "flex": null,
            "flex_flow": null,
            "grid_area": null,
            "grid_auto_columns": null,
            "grid_auto_flow": null,
            "grid_auto_rows": null,
            "grid_column": null,
            "grid_gap": null,
            "grid_row": null,
            "grid_template_areas": null,
            "grid_template_columns": null,
            "grid_template_rows": null,
            "height": null,
            "justify_content": null,
            "justify_items": null,
            "left": null,
            "margin": null,
            "max_height": null,
            "max_width": null,
            "min_height": null,
            "min_width": null,
            "object_fit": null,
            "object_position": null,
            "order": null,
            "overflow": null,
            "overflow_x": null,
            "overflow_y": null,
            "padding": null,
            "right": null,
            "top": null,
            "visibility": null,
            "width": null
          }
        },
        "058ea0c3e4634373a93a7f6c8cfddbaa": {
          "model_module": "@jupyter-widgets/controls",
          "model_module_version": "1.5.0",
          "model_name": "HBoxModel",
          "state": {
            "_dom_classes": [],
            "_model_module": "@jupyter-widgets/controls",
            "_model_module_version": "1.5.0",
            "_model_name": "HBoxModel",
            "_view_count": null,
            "_view_module": "@jupyter-widgets/controls",
            "_view_module_version": "1.5.0",
            "_view_name": "HBoxView",
            "box_style": "",
            "children": [
              "IPY_MODEL_d8efc3cfac1441d385f7c6e069dcb413",
              "IPY_MODEL_627bae6561dd49b79c35e4fe3eab2676",
              "IPY_MODEL_b151108a0cec40c8b7aca3b625c2d85d"
            ],
            "layout": "IPY_MODEL_9f9a2157c19a4752aad8311b4bf27b72"
          }
        },
        "183a511b819440ee93d48846064123a5": {
          "model_module": "@jupyter-widgets/controls",
          "model_module_version": "1.5.0",
          "model_name": "DescriptionStyleModel",
          "state": {
            "_model_module": "@jupyter-widgets/controls",
            "_model_module_version": "1.5.0",
            "_model_name": "DescriptionStyleModel",
            "_view_count": null,
            "_view_module": "@jupyter-widgets/base",
            "_view_module_version": "1.2.0",
            "_view_name": "StyleView",
            "description_width": ""
          }
        },
        "18f38b40db1d41f6bbe2dd7ad39b0f62": {
          "model_module": "@jupyter-widgets/controls",
          "model_module_version": "1.5.0",
          "model_name": "DescriptionStyleModel",
          "state": {
            "_model_module": "@jupyter-widgets/controls",
            "_model_module_version": "1.5.0",
            "_model_name": "DescriptionStyleModel",
            "_view_count": null,
            "_view_module": "@jupyter-widgets/base",
            "_view_module_version": "1.2.0",
            "_view_name": "StyleView",
            "description_width": ""
          }
        },
        "1e7504e7687a42c2b6ebd6850e4a8533": {
          "model_module": "@jupyter-widgets/base",
          "model_module_version": "1.2.0",
          "model_name": "LayoutModel",
          "state": {
            "_model_module": "@jupyter-widgets/base",
            "_model_module_version": "1.2.0",
            "_model_name": "LayoutModel",
            "_view_count": null,
            "_view_module": "@jupyter-widgets/base",
            "_view_module_version": "1.2.0",
            "_view_name": "LayoutView",
            "align_content": null,
            "align_items": null,
            "align_self": null,
            "border": null,
            "bottom": null,
            "display": null,
            "flex": null,
            "flex_flow": null,
            "grid_area": null,
            "grid_auto_columns": null,
            "grid_auto_flow": null,
            "grid_auto_rows": null,
            "grid_column": null,
            "grid_gap": null,
            "grid_row": null,
            "grid_template_areas": null,
            "grid_template_columns": null,
            "grid_template_rows": null,
            "height": null,
            "justify_content": null,
            "justify_items": null,
            "left": null,
            "margin": null,
            "max_height": null,
            "max_width": null,
            "min_height": null,
            "min_width": null,
            "object_fit": null,
            "object_position": null,
            "order": null,
            "overflow": null,
            "overflow_x": null,
            "overflow_y": null,
            "padding": null,
            "right": null,
            "top": null,
            "visibility": null,
            "width": null
          }
        },
        "1fcb104a7d0747e6abf694344d1aaf15": {
          "model_module": "@jupyter-widgets/base",
          "model_module_version": "1.2.0",
          "model_name": "LayoutModel",
          "state": {
            "_model_module": "@jupyter-widgets/base",
            "_model_module_version": "1.2.0",
            "_model_name": "LayoutModel",
            "_view_count": null,
            "_view_module": "@jupyter-widgets/base",
            "_view_module_version": "1.2.0",
            "_view_name": "LayoutView",
            "align_content": null,
            "align_items": null,
            "align_self": null,
            "border": null,
            "bottom": null,
            "display": null,
            "flex": null,
            "flex_flow": null,
            "grid_area": null,
            "grid_auto_columns": null,
            "grid_auto_flow": null,
            "grid_auto_rows": null,
            "grid_column": null,
            "grid_gap": null,
            "grid_row": null,
            "grid_template_areas": null,
            "grid_template_columns": null,
            "grid_template_rows": null,
            "height": null,
            "justify_content": null,
            "justify_items": null,
            "left": null,
            "margin": null,
            "max_height": null,
            "max_width": null,
            "min_height": null,
            "min_width": null,
            "object_fit": null,
            "object_position": null,
            "order": null,
            "overflow": null,
            "overflow_x": null,
            "overflow_y": null,
            "padding": null,
            "right": null,
            "top": null,
            "visibility": null,
            "width": null
          }
        },
        "26e8d119786c47a9b5e244899249084d": {
          "model_module": "@jupyter-widgets/base",
          "model_module_version": "1.2.0",
          "model_name": "LayoutModel",
          "state": {
            "_model_module": "@jupyter-widgets/base",
            "_model_module_version": "1.2.0",
            "_model_name": "LayoutModel",
            "_view_count": null,
            "_view_module": "@jupyter-widgets/base",
            "_view_module_version": "1.2.0",
            "_view_name": "LayoutView",
            "align_content": null,
            "align_items": null,
            "align_self": null,
            "border": null,
            "bottom": null,
            "display": null,
            "flex": null,
            "flex_flow": null,
            "grid_area": null,
            "grid_auto_columns": null,
            "grid_auto_flow": null,
            "grid_auto_rows": null,
            "grid_column": null,
            "grid_gap": null,
            "grid_row": null,
            "grid_template_areas": null,
            "grid_template_columns": null,
            "grid_template_rows": null,
            "height": null,
            "justify_content": null,
            "justify_items": null,
            "left": null,
            "margin": null,
            "max_height": null,
            "max_width": null,
            "min_height": null,
            "min_width": null,
            "object_fit": null,
            "object_position": null,
            "order": null,
            "overflow": null,
            "overflow_x": null,
            "overflow_y": null,
            "padding": null,
            "right": null,
            "top": null,
            "visibility": null,
            "width": null
          }
        },
        "2fceea4a166141f091f7c786dc8d146d": {
          "model_module": "@jupyter-widgets/controls",
          "model_module_version": "1.5.0",
          "model_name": "DescriptionStyleModel",
          "state": {
            "_model_module": "@jupyter-widgets/controls",
            "_model_module_version": "1.5.0",
            "_model_name": "DescriptionStyleModel",
            "_view_count": null,
            "_view_module": "@jupyter-widgets/base",
            "_view_module_version": "1.2.0",
            "_view_name": "StyleView",
            "description_width": ""
          }
        },
        "3a3bb35031ac4546abc433b3b67f7266": {
          "model_module": "@jupyter-widgets/controls",
          "model_module_version": "1.5.0",
          "model_name": "HTMLModel",
          "state": {
            "_dom_classes": [],
            "_model_module": "@jupyter-widgets/controls",
            "_model_module_version": "1.5.0",
            "_model_name": "HTMLModel",
            "_view_count": null,
            "_view_module": "@jupyter-widgets/controls",
            "_view_module_version": "1.5.0",
            "_view_name": "HTMLView",
            "description": "",
            "description_tooltip": null,
            "layout": "IPY_MODEL_c28c20c7035742d1969af9f5660ab534",
            "placeholder": "​",
            "style": "IPY_MODEL_dfaf29afcf224668ac0c142f18d6fcc6",
            "value": "vocab.txt: 100%"
          }
        },
        "3e8c698f04534dc8a1c848eaedd78747": {
          "model_module": "@jupyter-widgets/controls",
          "model_module_version": "1.5.0",
          "model_name": "HTMLModel",
          "state": {
            "_dom_classes": [],
            "_model_module": "@jupyter-widgets/controls",
            "_model_module_version": "1.5.0",
            "_model_name": "HTMLModel",
            "_view_count": null,
            "_view_module": "@jupyter-widgets/controls",
            "_view_module_version": "1.5.0",
            "_view_name": "HTMLView",
            "description": "",
            "description_tooltip": null,
            "layout": "IPY_MODEL_883f0351a4894a259b137c2ee0530c41",
            "placeholder": "​",
            "style": "IPY_MODEL_c721176b24ad4277b1f1fff33d4364e9",
            "value": "config.json: 100%"
          }
        },
        "4033d396d96f44bb938dab195a3504ed": {
          "model_module": "@jupyter-widgets/controls",
          "model_module_version": "1.5.0",
          "model_name": "DescriptionStyleModel",
          "state": {
            "_model_module": "@jupyter-widgets/controls",
            "_model_module_version": "1.5.0",
            "_model_name": "DescriptionStyleModel",
            "_view_count": null,
            "_view_module": "@jupyter-widgets/base",
            "_view_module_version": "1.2.0",
            "_view_name": "StyleView",
            "description_width": ""
          }
        },
        "439526feaf4b46aabb4d0194efb71f45": {
          "model_module": "@jupyter-widgets/controls",
          "model_module_version": "1.5.0",
          "model_name": "HBoxModel",
          "state": {
            "_dom_classes": [],
            "_model_module": "@jupyter-widgets/controls",
            "_model_module_version": "1.5.0",
            "_model_name": "HBoxModel",
            "_view_count": null,
            "_view_module": "@jupyter-widgets/controls",
            "_view_module_version": "1.5.0",
            "_view_name": "HBoxView",
            "box_style": "",
            "children": [
              "IPY_MODEL_80d2320aa1764f82b1ba89bf53d59deb",
              "IPY_MODEL_5e70079684d940cfa18dbb74e5434faf",
              "IPY_MODEL_4cbd99fc969b4c8eb4f4092ca08fe437"
            ],
            "layout": "IPY_MODEL_fe8325509f2c4a9291092402a3982fb1"
          }
        },
        "476a7106985b44148c3cae0b3e04e8e7": {
          "model_module": "@jupyter-widgets/base",
          "model_module_version": "1.2.0",
          "model_name": "LayoutModel",
          "state": {
            "_model_module": "@jupyter-widgets/base",
            "_model_module_version": "1.2.0",
            "_model_name": "LayoutModel",
            "_view_count": null,
            "_view_module": "@jupyter-widgets/base",
            "_view_module_version": "1.2.0",
            "_view_name": "LayoutView",
            "align_content": null,
            "align_items": null,
            "align_self": null,
            "border": null,
            "bottom": null,
            "display": null,
            "flex": null,
            "flex_flow": null,
            "grid_area": null,
            "grid_auto_columns": null,
            "grid_auto_flow": null,
            "grid_auto_rows": null,
            "grid_column": null,
            "grid_gap": null,
            "grid_row": null,
            "grid_template_areas": null,
            "grid_template_columns": null,
            "grid_template_rows": null,
            "height": null,
            "justify_content": null,
            "justify_items": null,
            "left": null,
            "margin": null,
            "max_height": null,
            "max_width": null,
            "min_height": null,
            "min_width": null,
            "object_fit": null,
            "object_position": null,
            "order": null,
            "overflow": null,
            "overflow_x": null,
            "overflow_y": null,
            "padding": null,
            "right": null,
            "top": null,
            "visibility": null,
            "width": null
          }
        },
        "4cbd99fc969b4c8eb4f4092ca08fe437": {
          "model_module": "@jupyter-widgets/controls",
          "model_module_version": "1.5.0",
          "model_name": "HTMLModel",
          "state": {
            "_dom_classes": [],
            "_model_module": "@jupyter-widgets/controls",
            "_model_module_version": "1.5.0",
            "_model_name": "HTMLModel",
            "_view_count": null,
            "_view_module": "@jupyter-widgets/controls",
            "_view_module_version": "1.5.0",
            "_view_name": "HTMLView",
            "description": "",
            "description_tooltip": null,
            "layout": "IPY_MODEL_852e712bbeb5436ea36aeab81222cdef",
            "placeholder": "​",
            "style": "IPY_MODEL_4033d396d96f44bb938dab195a3504ed",
            "value": " 714M/714M [00:07&lt;00:00, 113MB/s]"
          }
        },
        "50a710ec6b604756a1be356039f0e8c0": {
          "model_module": "@jupyter-widgets/base",
          "model_module_version": "1.2.0",
          "model_name": "LayoutModel",
          "state": {
            "_model_module": "@jupyter-widgets/base",
            "_model_module_version": "1.2.0",
            "_model_name": "LayoutModel",
            "_view_count": null,
            "_view_module": "@jupyter-widgets/base",
            "_view_module_version": "1.2.0",
            "_view_name": "LayoutView",
            "align_content": null,
            "align_items": null,
            "align_self": null,
            "border": null,
            "bottom": null,
            "display": null,
            "flex": null,
            "flex_flow": null,
            "grid_area": null,
            "grid_auto_columns": null,
            "grid_auto_flow": null,
            "grid_auto_rows": null,
            "grid_column": null,
            "grid_gap": null,
            "grid_row": null,
            "grid_template_areas": null,
            "grid_template_columns": null,
            "grid_template_rows": null,
            "height": null,
            "justify_content": null,
            "justify_items": null,
            "left": null,
            "margin": null,
            "max_height": null,
            "max_width": null,
            "min_height": null,
            "min_width": null,
            "object_fit": null,
            "object_position": null,
            "order": null,
            "overflow": null,
            "overflow_x": null,
            "overflow_y": null,
            "padding": null,
            "right": null,
            "top": null,
            "visibility": null,
            "width": null
          }
        },
        "5e70079684d940cfa18dbb74e5434faf": {
          "model_module": "@jupyter-widgets/controls",
          "model_module_version": "1.5.0",
          "model_name": "FloatProgressModel",
          "state": {
            "_dom_classes": [],
            "_model_module": "@jupyter-widgets/controls",
            "_model_module_version": "1.5.0",
            "_model_name": "FloatProgressModel",
            "_view_count": null,
            "_view_module": "@jupyter-widgets/controls",
            "_view_module_version": "1.5.0",
            "_view_name": "ProgressView",
            "bar_style": "success",
            "description": "",
            "description_tooltip": null,
            "layout": "IPY_MODEL_b2785c0b505e41c1b1e046a2704a9c34",
            "max": 714290682,
            "min": 0,
            "orientation": "horizontal",
            "style": "IPY_MODEL_ed653ffe6db54c73ab453b27e38dad0b",
            "value": 714290682
          }
        },
        "5f36175f9aaa45249b9b7d2ac5c7d5b2": {
          "model_module": "@jupyter-widgets/controls",
          "model_module_version": "1.5.0",
          "model_name": "DescriptionStyleModel",
          "state": {
            "_model_module": "@jupyter-widgets/controls",
            "_model_module_version": "1.5.0",
            "_model_name": "DescriptionStyleModel",
            "_view_count": null,
            "_view_module": "@jupyter-widgets/base",
            "_view_module_version": "1.2.0",
            "_view_name": "StyleView",
            "description_width": ""
          }
        },
        "5fccdbd40c2a424db8c72c03852a2976": {
          "model_module": "@jupyter-widgets/base",
          "model_module_version": "1.2.0",
          "model_name": "LayoutModel",
          "state": {
            "_model_module": "@jupyter-widgets/base",
            "_model_module_version": "1.2.0",
            "_model_name": "LayoutModel",
            "_view_count": null,
            "_view_module": "@jupyter-widgets/base",
            "_view_module_version": "1.2.0",
            "_view_name": "LayoutView",
            "align_content": null,
            "align_items": null,
            "align_self": null,
            "border": null,
            "bottom": null,
            "display": null,
            "flex": null,
            "flex_flow": null,
            "grid_area": null,
            "grid_auto_columns": null,
            "grid_auto_flow": null,
            "grid_auto_rows": null,
            "grid_column": null,
            "grid_gap": null,
            "grid_row": null,
            "grid_template_areas": null,
            "grid_template_columns": null,
            "grid_template_rows": null,
            "height": null,
            "justify_content": null,
            "justify_items": null,
            "left": null,
            "margin": null,
            "max_height": null,
            "max_width": null,
            "min_height": null,
            "min_width": null,
            "object_fit": null,
            "object_position": null,
            "order": null,
            "overflow": null,
            "overflow_x": null,
            "overflow_y": null,
            "padding": null,
            "right": null,
            "top": null,
            "visibility": null,
            "width": null
          }
        },
        "627bae6561dd49b79c35e4fe3eab2676": {
          "model_module": "@jupyter-widgets/controls",
          "model_module_version": "1.5.0",
          "model_name": "FloatProgressModel",
          "state": {
            "_dom_classes": [],
            "_model_module": "@jupyter-widgets/controls",
            "_model_module_version": "1.5.0",
            "_model_name": "FloatProgressModel",
            "_view_count": null,
            "_view_module": "@jupyter-widgets/controls",
            "_view_module_version": "1.5.0",
            "_view_name": "ProgressView",
            "bar_style": "success",
            "description": "",
            "description_tooltip": null,
            "layout": "IPY_MODEL_691a3507e4764825a322c6c869d938d8",
            "max": 1961828,
            "min": 0,
            "orientation": "horizontal",
            "style": "IPY_MODEL_bd0973906dfa48dd8d616f4f23d3c1e1",
            "value": 1961828
          }
        },
        "62abd81c3d10413ebb89e1066d00dd42": {
          "model_module": "@jupyter-widgets/controls",
          "model_module_version": "1.5.0",
          "model_name": "ProgressStyleModel",
          "state": {
            "_model_module": "@jupyter-widgets/controls",
            "_model_module_version": "1.5.0",
            "_model_name": "ProgressStyleModel",
            "_view_count": null,
            "_view_module": "@jupyter-widgets/base",
            "_view_module_version": "1.2.0",
            "_view_name": "StyleView",
            "bar_color": null,
            "description_width": ""
          }
        },
        "691a3507e4764825a322c6c869d938d8": {
          "model_module": "@jupyter-widgets/base",
          "model_module_version": "1.2.0",
          "model_name": "LayoutModel",
          "state": {
            "_model_module": "@jupyter-widgets/base",
            "_model_module_version": "1.2.0",
            "_model_name": "LayoutModel",
            "_view_count": null,
            "_view_module": "@jupyter-widgets/base",
            "_view_module_version": "1.2.0",
            "_view_name": "LayoutView",
            "align_content": null,
            "align_items": null,
            "align_self": null,
            "border": null,
            "bottom": null,
            "display": null,
            "flex": null,
            "flex_flow": null,
            "grid_area": null,
            "grid_auto_columns": null,
            "grid_auto_flow": null,
            "grid_auto_rows": null,
            "grid_column": null,
            "grid_gap": null,
            "grid_row": null,
            "grid_template_areas": null,
            "grid_template_columns": null,
            "grid_template_rows": null,
            "height": null,
            "justify_content": null,
            "justify_items": null,
            "left": null,
            "margin": null,
            "max_height": null,
            "max_width": null,
            "min_height": null,
            "min_width": null,
            "object_fit": null,
            "object_position": null,
            "order": null,
            "overflow": null,
            "overflow_x": null,
            "overflow_y": null,
            "padding": null,
            "right": null,
            "top": null,
            "visibility": null,
            "width": null
          }
        },
        "6d351739dd8542f1854394ea82a9e806": {
          "model_module": "@jupyter-widgets/base",
          "model_module_version": "1.2.0",
          "model_name": "LayoutModel",
          "state": {
            "_model_module": "@jupyter-widgets/base",
            "_model_module_version": "1.2.0",
            "_model_name": "LayoutModel",
            "_view_count": null,
            "_view_module": "@jupyter-widgets/base",
            "_view_module_version": "1.2.0",
            "_view_name": "LayoutView",
            "align_content": null,
            "align_items": null,
            "align_self": null,
            "border": null,
            "bottom": null,
            "display": null,
            "flex": null,
            "flex_flow": null,
            "grid_area": null,
            "grid_auto_columns": null,
            "grid_auto_flow": null,
            "grid_auto_rows": null,
            "grid_column": null,
            "grid_gap": null,
            "grid_row": null,
            "grid_template_areas": null,
            "grid_template_columns": null,
            "grid_template_rows": null,
            "height": null,
            "justify_content": null,
            "justify_items": null,
            "left": null,
            "margin": null,
            "max_height": null,
            "max_width": null,
            "min_height": null,
            "min_width": null,
            "object_fit": null,
            "object_position": null,
            "order": null,
            "overflow": null,
            "overflow_x": null,
            "overflow_y": null,
            "padding": null,
            "right": null,
            "top": null,
            "visibility": null,
            "width": null
          }
        },
        "7059d7fe03eb49a3947258059976b66c": {
          "model_module": "@jupyter-widgets/controls",
          "model_module_version": "1.5.0",
          "model_name": "HTMLModel",
          "state": {
            "_dom_classes": [],
            "_model_module": "@jupyter-widgets/controls",
            "_model_module_version": "1.5.0",
            "_model_name": "HTMLModel",
            "_view_count": null,
            "_view_module": "@jupyter-widgets/controls",
            "_view_module_version": "1.5.0",
            "_view_name": "HTMLView",
            "description": "",
            "description_tooltip": null,
            "layout": "IPY_MODEL_011aeea96d394853a5c38e90ce762ac0",
            "placeholder": "​",
            "style": "IPY_MODEL_7e6bf327ec2241bba555cdd897a53246",
            "value": " 625/625 [00:00&lt;00:00, 55.4kB/s]"
          }
        },
        "79b2bac493c24b83a76a960ba21d8eb7": {
          "model_module": "@jupyter-widgets/controls",
          "model_module_version": "1.5.0",
          "model_name": "FloatProgressModel",
          "state": {
            "_dom_classes": [],
            "_model_module": "@jupyter-widgets/controls",
            "_model_module_version": "1.5.0",
            "_model_name": "FloatProgressModel",
            "_view_count": null,
            "_view_module": "@jupyter-widgets/controls",
            "_view_module_version": "1.5.0",
            "_view_name": "ProgressView",
            "bar_style": "success",
            "description": "",
            "description_tooltip": null,
            "layout": "IPY_MODEL_26e8d119786c47a9b5e244899249084d",
            "max": 625,
            "min": 0,
            "orientation": "horizontal",
            "style": "IPY_MODEL_b91b54524c4345ee9996a6b3037822bb",
            "value": 625
          }
        },
        "7e6bf327ec2241bba555cdd897a53246": {
          "model_module": "@jupyter-widgets/controls",
          "model_module_version": "1.5.0",
          "model_name": "DescriptionStyleModel",
          "state": {
            "_model_module": "@jupyter-widgets/controls",
            "_model_module_version": "1.5.0",
            "_model_name": "DescriptionStyleModel",
            "_view_count": null,
            "_view_module": "@jupyter-widgets/base",
            "_view_module_version": "1.2.0",
            "_view_name": "StyleView",
            "description_width": ""
          }
        },
        "80d2320aa1764f82b1ba89bf53d59deb": {
          "model_module": "@jupyter-widgets/controls",
          "model_module_version": "1.5.0",
          "model_name": "HTMLModel",
          "state": {
            "_dom_classes": [],
            "_model_module": "@jupyter-widgets/controls",
            "_model_module_version": "1.5.0",
            "_model_name": "HTMLModel",
            "_view_count": null,
            "_view_module": "@jupyter-widgets/controls",
            "_view_module_version": "1.5.0",
            "_view_name": "HTMLView",
            "description": "",
            "description_tooltip": null,
            "layout": "IPY_MODEL_1fcb104a7d0747e6abf694344d1aaf15",
            "placeholder": "​",
            "style": "IPY_MODEL_5f36175f9aaa45249b9b7d2ac5c7d5b2",
            "value": "model.safetensors: 100%"
          }
        },
        "852e712bbeb5436ea36aeab81222cdef": {
          "model_module": "@jupyter-widgets/base",
          "model_module_version": "1.2.0",
          "model_name": "LayoutModel",
          "state": {
            "_model_module": "@jupyter-widgets/base",
            "_model_module_version": "1.2.0",
            "_model_name": "LayoutModel",
            "_view_count": null,
            "_view_module": "@jupyter-widgets/base",
            "_view_module_version": "1.2.0",
            "_view_name": "LayoutView",
            "align_content": null,
            "align_items": null,
            "align_self": null,
            "border": null,
            "bottom": null,
            "display": null,
            "flex": null,
            "flex_flow": null,
            "grid_area": null,
            "grid_auto_columns": null,
            "grid_auto_flow": null,
            "grid_auto_rows": null,
            "grid_column": null,
            "grid_gap": null,
            "grid_row": null,
            "grid_template_areas": null,
            "grid_template_columns": null,
            "grid_template_rows": null,
            "height": null,
            "justify_content": null,
            "justify_items": null,
            "left": null,
            "margin": null,
            "max_height": null,
            "max_width": null,
            "min_height": null,
            "min_width": null,
            "object_fit": null,
            "object_position": null,
            "order": null,
            "overflow": null,
            "overflow_x": null,
            "overflow_y": null,
            "padding": null,
            "right": null,
            "top": null,
            "visibility": null,
            "width": null
          }
        },
        "883f0351a4894a259b137c2ee0530c41": {
          "model_module": "@jupyter-widgets/base",
          "model_module_version": "1.2.0",
          "model_name": "LayoutModel",
          "state": {
            "_model_module": "@jupyter-widgets/base",
            "_model_module_version": "1.2.0",
            "_model_name": "LayoutModel",
            "_view_count": null,
            "_view_module": "@jupyter-widgets/base",
            "_view_module_version": "1.2.0",
            "_view_name": "LayoutView",
            "align_content": null,
            "align_items": null,
            "align_self": null,
            "border": null,
            "bottom": null,
            "display": null,
            "flex": null,
            "flex_flow": null,
            "grid_area": null,
            "grid_auto_columns": null,
            "grid_auto_flow": null,
            "grid_auto_rows": null,
            "grid_column": null,
            "grid_gap": null,
            "grid_row": null,
            "grid_template_areas": null,
            "grid_template_columns": null,
            "grid_template_rows": null,
            "height": null,
            "justify_content": null,
            "justify_items": null,
            "left": null,
            "margin": null,
            "max_height": null,
            "max_width": null,
            "min_height": null,
            "min_width": null,
            "object_fit": null,
            "object_position": null,
            "order": null,
            "overflow": null,
            "overflow_x": null,
            "overflow_y": null,
            "padding": null,
            "right": null,
            "top": null,
            "visibility": null,
            "width": null
          }
        },
        "8be2e90d9b6a46d1acbb955642a912ff": {
          "model_module": "@jupyter-widgets/controls",
          "model_module_version": "1.5.0",
          "model_name": "DescriptionStyleModel",
          "state": {
            "_model_module": "@jupyter-widgets/controls",
            "_model_module_version": "1.5.0",
            "_model_name": "DescriptionStyleModel",
            "_view_count": null,
            "_view_module": "@jupyter-widgets/base",
            "_view_module_version": "1.2.0",
            "_view_name": "StyleView",
            "description_width": ""
          }
        },
        "90cb760cb783414491515507342fe99f": {
          "model_module": "@jupyter-widgets/base",
          "model_module_version": "1.2.0",
          "model_name": "LayoutModel",
          "state": {
            "_model_module": "@jupyter-widgets/base",
            "_model_module_version": "1.2.0",
            "_model_name": "LayoutModel",
            "_view_count": null,
            "_view_module": "@jupyter-widgets/base",
            "_view_module_version": "1.2.0",
            "_view_name": "LayoutView",
            "align_content": null,
            "align_items": null,
            "align_self": null,
            "border": null,
            "bottom": null,
            "display": null,
            "flex": null,
            "flex_flow": null,
            "grid_area": null,
            "grid_auto_columns": null,
            "grid_auto_flow": null,
            "grid_auto_rows": null,
            "grid_column": null,
            "grid_gap": null,
            "grid_row": null,
            "grid_template_areas": null,
            "grid_template_columns": null,
            "grid_template_rows": null,
            "height": null,
            "justify_content": null,
            "justify_items": null,
            "left": null,
            "margin": null,
            "max_height": null,
            "max_width": null,
            "min_height": null,
            "min_width": null,
            "object_fit": null,
            "object_position": null,
            "order": null,
            "overflow": null,
            "overflow_x": null,
            "overflow_y": null,
            "padding": null,
            "right": null,
            "top": null,
            "visibility": null,
            "width": null
          }
        },
        "998104e6d60048bd825c520f9cae5375": {
          "model_module": "@jupyter-widgets/base",
          "model_module_version": "1.2.0",
          "model_name": "LayoutModel",
          "state": {
            "_model_module": "@jupyter-widgets/base",
            "_model_module_version": "1.2.0",
            "_model_name": "LayoutModel",
            "_view_count": null,
            "_view_module": "@jupyter-widgets/base",
            "_view_module_version": "1.2.0",
            "_view_name": "LayoutView",
            "align_content": null,
            "align_items": null,
            "align_self": null,
            "border": null,
            "bottom": null,
            "display": null,
            "flex": null,
            "flex_flow": null,
            "grid_area": null,
            "grid_auto_columns": null,
            "grid_auto_flow": null,
            "grid_auto_rows": null,
            "grid_column": null,
            "grid_gap": null,
            "grid_row": null,
            "grid_template_areas": null,
            "grid_template_columns": null,
            "grid_template_rows": null,
            "height": null,
            "justify_content": null,
            "justify_items": null,
            "left": null,
            "margin": null,
            "max_height": null,
            "max_width": null,
            "min_height": null,
            "min_width": null,
            "object_fit": null,
            "object_position": null,
            "order": null,
            "overflow": null,
            "overflow_x": null,
            "overflow_y": null,
            "padding": null,
            "right": null,
            "top": null,
            "visibility": null,
            "width": null
          }
        },
        "9aadc3949e814a819bb27bba34177f45": {
          "model_module": "@jupyter-widgets/base",
          "model_module_version": "1.2.0",
          "model_name": "LayoutModel",
          "state": {
            "_model_module": "@jupyter-widgets/base",
            "_model_module_version": "1.2.0",
            "_model_name": "LayoutModel",
            "_view_count": null,
            "_view_module": "@jupyter-widgets/base",
            "_view_module_version": "1.2.0",
            "_view_name": "LayoutView",
            "align_content": null,
            "align_items": null,
            "align_self": null,
            "border": null,
            "bottom": null,
            "display": null,
            "flex": null,
            "flex_flow": null,
            "grid_area": null,
            "grid_auto_columns": null,
            "grid_auto_flow": null,
            "grid_auto_rows": null,
            "grid_column": null,
            "grid_gap": null,
            "grid_row": null,
            "grid_template_areas": null,
            "grid_template_columns": null,
            "grid_template_rows": null,
            "height": null,
            "justify_content": null,
            "justify_items": null,
            "left": null,
            "margin": null,
            "max_height": null,
            "max_width": null,
            "min_height": null,
            "min_width": null,
            "object_fit": null,
            "object_position": null,
            "order": null,
            "overflow": null,
            "overflow_x": null,
            "overflow_y": null,
            "padding": null,
            "right": null,
            "top": null,
            "visibility": null,
            "width": null
          }
        },
        "9f9a2157c19a4752aad8311b4bf27b72": {
          "model_module": "@jupyter-widgets/base",
          "model_module_version": "1.2.0",
          "model_name": "LayoutModel",
          "state": {
            "_model_module": "@jupyter-widgets/base",
            "_model_module_version": "1.2.0",
            "_model_name": "LayoutModel",
            "_view_count": null,
            "_view_module": "@jupyter-widgets/base",
            "_view_module_version": "1.2.0",
            "_view_name": "LayoutView",
            "align_content": null,
            "align_items": null,
            "align_self": null,
            "border": null,
            "bottom": null,
            "display": null,
            "flex": null,
            "flex_flow": null,
            "grid_area": null,
            "grid_auto_columns": null,
            "grid_auto_flow": null,
            "grid_auto_rows": null,
            "grid_column": null,
            "grid_gap": null,
            "grid_row": null,
            "grid_template_areas": null,
            "grid_template_columns": null,
            "grid_template_rows": null,
            "height": null,
            "justify_content": null,
            "justify_items": null,
            "left": null,
            "margin": null,
            "max_height": null,
            "max_width": null,
            "min_height": null,
            "min_width": null,
            "object_fit": null,
            "object_position": null,
            "order": null,
            "overflow": null,
            "overflow_x": null,
            "overflow_y": null,
            "padding": null,
            "right": null,
            "top": null,
            "visibility": null,
            "width": null
          }
        },
        "a2c537843c3d417f9fb72863ab12b1ec": {
          "model_module": "@jupyter-widgets/controls",
          "model_module_version": "1.5.0",
          "model_name": "HBoxModel",
          "state": {
            "_dom_classes": [],
            "_model_module": "@jupyter-widgets/controls",
            "_model_module_version": "1.5.0",
            "_model_name": "HBoxModel",
            "_view_count": null,
            "_view_module": "@jupyter-widgets/controls",
            "_view_module_version": "1.5.0",
            "_view_name": "HBoxView",
            "box_style": "",
            "children": [
              "IPY_MODEL_b579c4715b6443159b9ca8ac6a25951d",
              "IPY_MODEL_af21abef811b4509bbea8ed4b2ed7adb",
              "IPY_MODEL_f5ca1d16290a4ca2bcac453b941fbb20"
            ],
            "layout": "IPY_MODEL_90cb760cb783414491515507342fe99f"
          }
        },
        "aca9afd5cf0846b98a7ebee6a7f0dda0": {
          "model_module": "@jupyter-widgets/controls",
          "model_module_version": "1.5.0",
          "model_name": "ProgressStyleModel",
          "state": {
            "_model_module": "@jupyter-widgets/controls",
            "_model_module_version": "1.5.0",
            "_model_name": "ProgressStyleModel",
            "_view_count": null,
            "_view_module": "@jupyter-widgets/base",
            "_view_module_version": "1.2.0",
            "_view_name": "StyleView",
            "bar_color": null,
            "description_width": ""
          }
        },
        "ad56af58cf4141fea1ad8b950a56cf38": {
          "model_module": "@jupyter-widgets/controls",
          "model_module_version": "1.5.0",
          "model_name": "HBoxModel",
          "state": {
            "_dom_classes": [],
            "_model_module": "@jupyter-widgets/controls",
            "_model_module_version": "1.5.0",
            "_model_name": "HBoxModel",
            "_view_count": null,
            "_view_module": "@jupyter-widgets/controls",
            "_view_module_version": "1.5.0",
            "_view_name": "HBoxView",
            "box_style": "",
            "children": [
              "IPY_MODEL_3e8c698f04534dc8a1c848eaedd78747",
              "IPY_MODEL_79b2bac493c24b83a76a960ba21d8eb7",
              "IPY_MODEL_7059d7fe03eb49a3947258059976b66c"
            ],
            "layout": "IPY_MODEL_c7e608aa3011412d828cf64c141ea582"
          }
        },
        "af21abef811b4509bbea8ed4b2ed7adb": {
          "model_module": "@jupyter-widgets/controls",
          "model_module_version": "1.5.0",
          "model_name": "FloatProgressModel",
          "state": {
            "_dom_classes": [],
            "_model_module": "@jupyter-widgets/controls",
            "_model_module_version": "1.5.0",
            "_model_name": "FloatProgressModel",
            "_view_count": null,
            "_view_module": "@jupyter-widgets/controls",
            "_view_module_version": "1.5.0",
            "_view_name": "ProgressView",
            "bar_style": "success",
            "description": "",
            "description_tooltip": null,
            "layout": "IPY_MODEL_476a7106985b44148c3cae0b3e04e8e7",
            "max": 49,
            "min": 0,
            "orientation": "horizontal",
            "style": "IPY_MODEL_aca9afd5cf0846b98a7ebee6a7f0dda0",
            "value": 49
          }
        },
        "b151108a0cec40c8b7aca3b625c2d85d": {
          "model_module": "@jupyter-widgets/controls",
          "model_module_version": "1.5.0",
          "model_name": "HTMLModel",
          "state": {
            "_dom_classes": [],
            "_model_module": "@jupyter-widgets/controls",
            "_model_module_version": "1.5.0",
            "_model_name": "HTMLModel",
            "_view_count": null,
            "_view_module": "@jupyter-widgets/controls",
            "_view_module_version": "1.5.0",
            "_view_name": "HTMLView",
            "description": "",
            "description_tooltip": null,
            "layout": "IPY_MODEL_6d351739dd8542f1854394ea82a9e806",
            "placeholder": "​",
            "style": "IPY_MODEL_18f38b40db1d41f6bbe2dd7ad39b0f62",
            "value": " 1.96M/1.96M [00:00&lt;00:00, 9.34MB/s]"
          }
        },
        "b2785c0b505e41c1b1e046a2704a9c34": {
          "model_module": "@jupyter-widgets/base",
          "model_module_version": "1.2.0",
          "model_name": "LayoutModel",
          "state": {
            "_model_module": "@jupyter-widgets/base",
            "_model_module_version": "1.2.0",
            "_model_name": "LayoutModel",
            "_view_count": null,
            "_view_module": "@jupyter-widgets/base",
            "_view_module_version": "1.2.0",
            "_view_name": "LayoutView",
            "align_content": null,
            "align_items": null,
            "align_self": null,
            "border": null,
            "bottom": null,
            "display": null,
            "flex": null,
            "flex_flow": null,
            "grid_area": null,
            "grid_auto_columns": null,
            "grid_auto_flow": null,
            "grid_auto_rows": null,
            "grid_column": null,
            "grid_gap": null,
            "grid_row": null,
            "grid_template_areas": null,
            "grid_template_columns": null,
            "grid_template_rows": null,
            "height": null,
            "justify_content": null,
            "justify_items": null,
            "left": null,
            "margin": null,
            "max_height": null,
            "max_width": null,
            "min_height": null,
            "min_width": null,
            "object_fit": null,
            "object_position": null,
            "order": null,
            "overflow": null,
            "overflow_x": null,
            "overflow_y": null,
            "padding": null,
            "right": null,
            "top": null,
            "visibility": null,
            "width": null
          }
        },
        "b579c4715b6443159b9ca8ac6a25951d": {
          "model_module": "@jupyter-widgets/controls",
          "model_module_version": "1.5.0",
          "model_name": "HTMLModel",
          "state": {
            "_dom_classes": [],
            "_model_module": "@jupyter-widgets/controls",
            "_model_module_version": "1.5.0",
            "_model_name": "HTMLModel",
            "_view_count": null,
            "_view_module": "@jupyter-widgets/controls",
            "_view_module_version": "1.5.0",
            "_view_name": "HTMLView",
            "description": "",
            "description_tooltip": null,
            "layout": "IPY_MODEL_998104e6d60048bd825c520f9cae5375",
            "placeholder": "​",
            "style": "IPY_MODEL_8be2e90d9b6a46d1acbb955642a912ff",
            "value": "tokenizer_config.json: 100%"
          }
        },
        "b91b54524c4345ee9996a6b3037822bb": {
          "model_module": "@jupyter-widgets/controls",
          "model_module_version": "1.5.0",
          "model_name": "ProgressStyleModel",
          "state": {
            "_model_module": "@jupyter-widgets/controls",
            "_model_module_version": "1.5.0",
            "_model_name": "ProgressStyleModel",
            "_view_count": null,
            "_view_module": "@jupyter-widgets/base",
            "_view_module_version": "1.2.0",
            "_view_name": "StyleView",
            "bar_color": null,
            "description_width": ""
          }
        },
        "bd0973906dfa48dd8d616f4f23d3c1e1": {
          "model_module": "@jupyter-widgets/controls",
          "model_module_version": "1.5.0",
          "model_name": "ProgressStyleModel",
          "state": {
            "_model_module": "@jupyter-widgets/controls",
            "_model_module_version": "1.5.0",
            "_model_name": "ProgressStyleModel",
            "_view_count": null,
            "_view_module": "@jupyter-widgets/base",
            "_view_module_version": "1.2.0",
            "_view_name": "StyleView",
            "bar_color": null,
            "description_width": ""
          }
        },
        "c28c20c7035742d1969af9f5660ab534": {
          "model_module": "@jupyter-widgets/base",
          "model_module_version": "1.2.0",
          "model_name": "LayoutModel",
          "state": {
            "_model_module": "@jupyter-widgets/base",
            "_model_module_version": "1.2.0",
            "_model_name": "LayoutModel",
            "_view_count": null,
            "_view_module": "@jupyter-widgets/base",
            "_view_module_version": "1.2.0",
            "_view_name": "LayoutView",
            "align_content": null,
            "align_items": null,
            "align_self": null,
            "border": null,
            "bottom": null,
            "display": null,
            "flex": null,
            "flex_flow": null,
            "grid_area": null,
            "grid_auto_columns": null,
            "grid_auto_flow": null,
            "grid_auto_rows": null,
            "grid_column": null,
            "grid_gap": null,
            "grid_row": null,
            "grid_template_areas": null,
            "grid_template_columns": null,
            "grid_template_rows": null,
            "height": null,
            "justify_content": null,
            "justify_items": null,
            "left": null,
            "margin": null,
            "max_height": null,
            "max_width": null,
            "min_height": null,
            "min_width": null,
            "object_fit": null,
            "object_position": null,
            "order": null,
            "overflow": null,
            "overflow_x": null,
            "overflow_y": null,
            "padding": null,
            "right": null,
            "top": null,
            "visibility": null,
            "width": null
          }
        },
        "c721176b24ad4277b1f1fff33d4364e9": {
          "model_module": "@jupyter-widgets/controls",
          "model_module_version": "1.5.0",
          "model_name": "DescriptionStyleModel",
          "state": {
            "_model_module": "@jupyter-widgets/controls",
            "_model_module_version": "1.5.0",
            "_model_name": "DescriptionStyleModel",
            "_view_count": null,
            "_view_module": "@jupyter-widgets/base",
            "_view_module_version": "1.2.0",
            "_view_name": "StyleView",
            "description_width": ""
          }
        },
        "c7c372a800044b61b3ea17681aaf6b0c": {
          "model_module": "@jupyter-widgets/controls",
          "model_module_version": "1.5.0",
          "model_name": "DescriptionStyleModel",
          "state": {
            "_model_module": "@jupyter-widgets/controls",
            "_model_module_version": "1.5.0",
            "_model_name": "DescriptionStyleModel",
            "_view_count": null,
            "_view_module": "@jupyter-widgets/base",
            "_view_module_version": "1.2.0",
            "_view_name": "StyleView",
            "description_width": ""
          }
        },
        "c7e608aa3011412d828cf64c141ea582": {
          "model_module": "@jupyter-widgets/base",
          "model_module_version": "1.2.0",
          "model_name": "LayoutModel",
          "state": {
            "_model_module": "@jupyter-widgets/base",
            "_model_module_version": "1.2.0",
            "_model_name": "LayoutModel",
            "_view_count": null,
            "_view_module": "@jupyter-widgets/base",
            "_view_module_version": "1.2.0",
            "_view_name": "LayoutView",
            "align_content": null,
            "align_items": null,
            "align_self": null,
            "border": null,
            "bottom": null,
            "display": null,
            "flex": null,
            "flex_flow": null,
            "grid_area": null,
            "grid_auto_columns": null,
            "grid_auto_flow": null,
            "grid_auto_rows": null,
            "grid_column": null,
            "grid_gap": null,
            "grid_row": null,
            "grid_template_areas": null,
            "grid_template_columns": null,
            "grid_template_rows": null,
            "height": null,
            "justify_content": null,
            "justify_items": null,
            "left": null,
            "margin": null,
            "max_height": null,
            "max_width": null,
            "min_height": null,
            "min_width": null,
            "object_fit": null,
            "object_position": null,
            "order": null,
            "overflow": null,
            "overflow_x": null,
            "overflow_y": null,
            "padding": null,
            "right": null,
            "top": null,
            "visibility": null,
            "width": null
          }
        },
        "c90baa5758dd42499cd18ad6e345dc48": {
          "model_module": "@jupyter-widgets/controls",
          "model_module_version": "1.5.0",
          "model_name": "HTMLModel",
          "state": {
            "_dom_classes": [],
            "_model_module": "@jupyter-widgets/controls",
            "_model_module_version": "1.5.0",
            "_model_name": "HTMLModel",
            "_view_count": null,
            "_view_module": "@jupyter-widgets/controls",
            "_view_module_version": "1.5.0",
            "_view_name": "HTMLView",
            "description": "",
            "description_tooltip": null,
            "layout": "IPY_MODEL_5fccdbd40c2a424db8c72c03852a2976",
            "placeholder": "​",
            "style": "IPY_MODEL_c7c372a800044b61b3ea17681aaf6b0c",
            "value": " 996k/996k [00:00&lt;00:00, 4.49MB/s]"
          }
        },
        "cbb3694c648d4ae4bf5edfb77e3f0581": {
          "model_module": "@jupyter-widgets/controls",
          "model_module_version": "1.5.0",
          "model_name": "FloatProgressModel",
          "state": {
            "_dom_classes": [],
            "_model_module": "@jupyter-widgets/controls",
            "_model_module_version": "1.5.0",
            "_model_name": "FloatProgressModel",
            "_view_count": null,
            "_view_module": "@jupyter-widgets/controls",
            "_view_module_version": "1.5.0",
            "_view_name": "ProgressView",
            "bar_style": "success",
            "description": "",
            "description_tooltip": null,
            "layout": "IPY_MODEL_50a710ec6b604756a1be356039f0e8c0",
            "max": 995526,
            "min": 0,
            "orientation": "horizontal",
            "style": "IPY_MODEL_62abd81c3d10413ebb89e1066d00dd42",
            "value": 995526
          }
        },
        "d8efc3cfac1441d385f7c6e069dcb413": {
          "model_module": "@jupyter-widgets/controls",
          "model_module_version": "1.5.0",
          "model_name": "HTMLModel",
          "state": {
            "_dom_classes": [],
            "_model_module": "@jupyter-widgets/controls",
            "_model_module_version": "1.5.0",
            "_model_name": "HTMLModel",
            "_view_count": null,
            "_view_module": "@jupyter-widgets/controls",
            "_view_module_version": "1.5.0",
            "_view_name": "HTMLView",
            "description": "",
            "description_tooltip": null,
            "layout": "IPY_MODEL_1e7504e7687a42c2b6ebd6850e4a8533",
            "placeholder": "​",
            "style": "IPY_MODEL_2fceea4a166141f091f7c786dc8d146d",
            "value": "tokenizer.json: 100%"
          }
        },
        "df0e05bac3bb4fd3b095febbf5bb52f1": {
          "model_module": "@jupyter-widgets/base",
          "model_module_version": "1.2.0",
          "model_name": "LayoutModel",
          "state": {
            "_model_module": "@jupyter-widgets/base",
            "_model_module_version": "1.2.0",
            "_model_name": "LayoutModel",
            "_view_count": null,
            "_view_module": "@jupyter-widgets/base",
            "_view_module_version": "1.2.0",
            "_view_name": "LayoutView",
            "align_content": null,
            "align_items": null,
            "align_self": null,
            "border": null,
            "bottom": null,
            "display": null,
            "flex": null,
            "flex_flow": null,
            "grid_area": null,
            "grid_auto_columns": null,
            "grid_auto_flow": null,
            "grid_auto_rows": null,
            "grid_column": null,
            "grid_gap": null,
            "grid_row": null,
            "grid_template_areas": null,
            "grid_template_columns": null,
            "grid_template_rows": null,
            "height": null,
            "justify_content": null,
            "justify_items": null,
            "left": null,
            "margin": null,
            "max_height": null,
            "max_width": null,
            "min_height": null,
            "min_width": null,
            "object_fit": null,
            "object_position": null,
            "order": null,
            "overflow": null,
            "overflow_x": null,
            "overflow_y": null,
            "padding": null,
            "right": null,
            "top": null,
            "visibility": null,
            "width": null
          }
        },
        "dfaf29afcf224668ac0c142f18d6fcc6": {
          "model_module": "@jupyter-widgets/controls",
          "model_module_version": "1.5.0",
          "model_name": "DescriptionStyleModel",
          "state": {
            "_model_module": "@jupyter-widgets/controls",
            "_model_module_version": "1.5.0",
            "_model_name": "DescriptionStyleModel",
            "_view_count": null,
            "_view_module": "@jupyter-widgets/base",
            "_view_module_version": "1.2.0",
            "_view_name": "StyleView",
            "description_width": ""
          }
        },
        "ed653ffe6db54c73ab453b27e38dad0b": {
          "model_module": "@jupyter-widgets/controls",
          "model_module_version": "1.5.0",
          "model_name": "ProgressStyleModel",
          "state": {
            "_model_module": "@jupyter-widgets/controls",
            "_model_module_version": "1.5.0",
            "_model_name": "ProgressStyleModel",
            "_view_count": null,
            "_view_module": "@jupyter-widgets/base",
            "_view_module_version": "1.2.0",
            "_view_name": "StyleView",
            "bar_color": null,
            "description_width": ""
          }
        },
        "f5ca1d16290a4ca2bcac453b941fbb20": {
          "model_module": "@jupyter-widgets/controls",
          "model_module_version": "1.5.0",
          "model_name": "HTMLModel",
          "state": {
            "_dom_classes": [],
            "_model_module": "@jupyter-widgets/controls",
            "_model_module_version": "1.5.0",
            "_model_name": "HTMLModel",
            "_view_count": null,
            "_view_module": "@jupyter-widgets/controls",
            "_view_module_version": "1.5.0",
            "_view_name": "HTMLView",
            "description": "",
            "description_tooltip": null,
            "layout": "IPY_MODEL_df0e05bac3bb4fd3b095febbf5bb52f1",
            "placeholder": "​",
            "style": "IPY_MODEL_183a511b819440ee93d48846064123a5",
            "value": " 49.0/49.0 [00:00&lt;00:00, 1.52kB/s]"
          }
        },
        "fb3dc2f7774948b0940076110b17926c": {
          "model_module": "@jupyter-widgets/controls",
          "model_module_version": "1.5.0",
          "model_name": "HBoxModel",
          "state": {
            "_dom_classes": [],
            "_model_module": "@jupyter-widgets/controls",
            "_model_module_version": "1.5.0",
            "_model_name": "HBoxModel",
            "_view_count": null,
            "_view_module": "@jupyter-widgets/controls",
            "_view_module_version": "1.5.0",
            "_view_name": "HBoxView",
            "box_style": "",
            "children": [
              "IPY_MODEL_3a3bb35031ac4546abc433b3b67f7266",
              "IPY_MODEL_cbb3694c648d4ae4bf5edfb77e3f0581",
              "IPY_MODEL_c90baa5758dd42499cd18ad6e345dc48"
            ],
            "layout": "IPY_MODEL_9aadc3949e814a819bb27bba34177f45"
          }
        },
        "fe8325509f2c4a9291092402a3982fb1": {
          "model_module": "@jupyter-widgets/base",
          "model_module_version": "1.2.0",
          "model_name": "LayoutModel",
          "state": {
            "_model_module": "@jupyter-widgets/base",
            "_model_module_version": "1.2.0",
            "_model_name": "LayoutModel",
            "_view_count": null,
            "_view_module": "@jupyter-widgets/base",
            "_view_module_version": "1.2.0",
            "_view_name": "LayoutView",
            "align_content": null,
            "align_items": null,
            "align_self": null,
            "border": null,
            "bottom": null,
            "display": null,
            "flex": null,
            "flex_flow": null,
            "grid_area": null,
            "grid_auto_columns": null,
            "grid_auto_flow": null,
            "grid_auto_rows": null,
            "grid_column": null,
            "grid_gap": null,
            "grid_row": null,
            "grid_template_areas": null,
            "grid_template_columns": null,
            "grid_template_rows": null,
            "height": null,
            "justify_content": null,
            "justify_items": null,
            "left": null,
            "margin": null,
            "max_height": null,
            "max_width": null,
            "min_height": null,
            "min_width": null,
            "object_fit": null,
            "object_position": null,
            "order": null,
            "overflow": null,
            "overflow_x": null,
            "overflow_y": null,
            "padding": null,
            "right": null,
            "top": null,
            "visibility": null,
            "width": null
          }
        }
      }
    }
  },
  "nbformat": 4,
  "nbformat_minor": 0
}
